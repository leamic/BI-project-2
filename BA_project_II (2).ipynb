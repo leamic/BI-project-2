{
  "nbformat": 4,
  "nbformat_minor": 0,
  "metadata": {
    "colab": {
      "name": "BA project II.ipynb",
      "provenance": [],
      "collapsed_sections": []
    },
    "kernelspec": {
      "name": "python3",
      "display_name": "Python 3"
    },
    "language_info": {
      "name": "python"
    }
  },
  "cells": [
    {
      "cell_type": "markdown",
      "metadata": {
        "id": "2C8Xi3nYsWBd"
      },
      "source": [
        "## BUSINESS PROBLEM"
      ]
    },
    {
      "cell_type": "markdown",
      "metadata": {
        "id": "_5Zv0m7Ksqr0"
      },
      "source": [
        "*PROJECT 2: FRAUDULENT CREDIT CARDS TRANSACTIONS*\n",
        "\n",
        "Context\n",
        "\n",
        "A bank is interested in providing higher quality customer service to protect customers financial assets. The bank has been receiving several complaints about credit card frauds from their customers and the news media is regularly reporting about how the bank's customers are losing large amounts of money and the bank is doing nothing to stop it. This is impacting both the customers experience and their market share. The Senior Management is asking for a deep dive\n",
        "into this issue.\n",
        "\n",
        "You just got hired as the Business Analyst for the bank, and they provided you with 6 months of available data (step 0 to 179 refer to the dates). They want you to share some insights using the features in the file to determine if you can see a pattern for the fraudulent transactions. They are expecting you to provide some suggestions on how to tackle the problem.\n",
        "\n",
        "Questions\n",
        "1. Show a summary of the variable you are studying (target variable). Plot the most appropriate graph to represent this data\n",
        "2. Calculate summary statistics from the data\n",
        "3. Calculation of daily trends of transactions for different categories of variables\n",
        "4. What are your thoughts on the fraudulent transactions? Is there a threshold of the spent? Is there a specific ‘gender’ with a higher probability to be the victim of a fraudulent act? or ‘category’ of transactions with higher chance to be fraudulent?\n",
        "5. What are your recommendations to the bank's management and describe how your solution will help regain trust from customers?\n",
        "6. Any other data that you would ask the team to provide? Why?"
      ]
    },
    {
      "cell_type": "markdown",
      "metadata": {
        "id": "oe6mfkUoo4aF"
      },
      "source": [
        "#  Importing Librairies"
      ]
    },
    {
      "cell_type": "code",
      "metadata": {
        "id": "uc-LvyVXpXkk"
      },
      "source": [
        "import pandas as pd\n",
        "import numpy as np\n",
        "from matplotlib import pyplot as plt\n",
        "import re as re\n",
        "import seaborn as sns\n",
        "import datetime as dt\n",
        "import io"
      ],
      "execution_count": null,
      "outputs": []
    },
    {
      "cell_type": "markdown",
      "metadata": {
        "id": "Sn3KBX4soaht"
      },
      "source": [
        "# Retrieve & Clean Data"
      ]
    },
    {
      "cell_type": "code",
      "metadata": {
        "id": "mBfV2e9lGtv9",
        "colab": {
          "base_uri": "https://localhost:8080/",
          "height": 224
        },
        "outputId": "5d7915c9-76b5-47fa-a66c-fc24ef3ec059"
      },
      "source": [
        "url=\"https://raw.githubusercontent.com/Ldave01/BA-Group-Project/main/file1.csv\"\n",
        "data=pd.read_csv(url)\n",
        "data.head()"
      ],
      "execution_count": null,
      "outputs": [
        {
          "output_type": "execute_result",
          "data": {
            "text/html": [
              "<div>\n",
              "<style scoped>\n",
              "    .dataframe tbody tr th:only-of-type {\n",
              "        vertical-align: middle;\n",
              "    }\n",
              "\n",
              "    .dataframe tbody tr th {\n",
              "        vertical-align: top;\n",
              "    }\n",
              "\n",
              "    .dataframe thead th {\n",
              "        text-align: right;\n",
              "    }\n",
              "</style>\n",
              "<table border=\"1\" class=\"dataframe\">\n",
              "  <thead>\n",
              "    <tr style=\"text-align: right;\">\n",
              "      <th></th>\n",
              "      <th>step</th>\n",
              "      <th>customer</th>\n",
              "      <th>age</th>\n",
              "      <th>gender</th>\n",
              "      <th>zipcodeOri</th>\n",
              "      <th>merchant</th>\n",
              "      <th>zipMerchant</th>\n",
              "      <th>category</th>\n",
              "      <th>amount</th>\n",
              "      <th>fraud</th>\n",
              "    </tr>\n",
              "  </thead>\n",
              "  <tbody>\n",
              "    <tr>\n",
              "      <th>0</th>\n",
              "      <td>0</td>\n",
              "      <td>'C1093826151'</td>\n",
              "      <td>'4'</td>\n",
              "      <td>'M'</td>\n",
              "      <td>'28007'</td>\n",
              "      <td>'M348934600'</td>\n",
              "      <td>'28007'</td>\n",
              "      <td>'es_transportation'</td>\n",
              "      <td>4.55</td>\n",
              "      <td>0</td>\n",
              "    </tr>\n",
              "    <tr>\n",
              "      <th>1</th>\n",
              "      <td>0</td>\n",
              "      <td>'C352968107'</td>\n",
              "      <td>'2'</td>\n",
              "      <td>'M'</td>\n",
              "      <td>'28007'</td>\n",
              "      <td>'M348934600'</td>\n",
              "      <td>'28007'</td>\n",
              "      <td>'es_transportation'</td>\n",
              "      <td>39.68</td>\n",
              "      <td>0</td>\n",
              "    </tr>\n",
              "    <tr>\n",
              "      <th>2</th>\n",
              "      <td>0</td>\n",
              "      <td>'C2054744914'</td>\n",
              "      <td>'4'</td>\n",
              "      <td>'F'</td>\n",
              "      <td>'28007'</td>\n",
              "      <td>'M1823072687'</td>\n",
              "      <td>'28007'</td>\n",
              "      <td>'es_transportation'</td>\n",
              "      <td>26.89</td>\n",
              "      <td>0</td>\n",
              "    </tr>\n",
              "    <tr>\n",
              "      <th>3</th>\n",
              "      <td>0</td>\n",
              "      <td>'C1760612790'</td>\n",
              "      <td>'3'</td>\n",
              "      <td>'M'</td>\n",
              "      <td>'28007'</td>\n",
              "      <td>'M348934600'</td>\n",
              "      <td>'28007'</td>\n",
              "      <td>'es_transportation'</td>\n",
              "      <td>17.25</td>\n",
              "      <td>0</td>\n",
              "    </tr>\n",
              "    <tr>\n",
              "      <th>4</th>\n",
              "      <td>0</td>\n",
              "      <td>'C757503768'</td>\n",
              "      <td>'5'</td>\n",
              "      <td>'M'</td>\n",
              "      <td>'28007'</td>\n",
              "      <td>'M348934600'</td>\n",
              "      <td>'28007'</td>\n",
              "      <td>'es_transportation'</td>\n",
              "      <td>35.72</td>\n",
              "      <td>0</td>\n",
              "    </tr>\n",
              "  </tbody>\n",
              "</table>\n",
              "</div>"
            ],
            "text/plain": [
              "   step       customer  age  ...             category amount fraud\n",
              "0     0  'C1093826151'  '4'  ...  'es_transportation'   4.55     0\n",
              "1     0   'C352968107'  '2'  ...  'es_transportation'  39.68     0\n",
              "2     0  'C2054744914'  '4'  ...  'es_transportation'  26.89     0\n",
              "3     0  'C1760612790'  '3'  ...  'es_transportation'  17.25     0\n",
              "4     0   'C757503768'  '5'  ...  'es_transportation'  35.72     0\n",
              "\n",
              "[5 rows x 10 columns]"
            ]
          },
          "metadata": {
            "tags": []
          },
          "execution_count": 72
        }
      ]
    },
    {
      "cell_type": "code",
      "metadata": {
        "colab": {
          "base_uri": "https://localhost:8080/"
        },
        "id": "Y3juu82xU5LG",
        "outputId": "58fcbe47-8196-4acc-bfac-7a9860b51574"
      },
      "source": [
        "#Printing a summary of the DataFrame \n",
        "data.info()"
      ],
      "execution_count": null,
      "outputs": [
        {
          "output_type": "stream",
          "text": [
            "<class 'pandas.core.frame.DataFrame'>\n",
            "RangeIndex: 594643 entries, 0 to 594642\n",
            "Data columns (total 10 columns):\n",
            " #   Column       Non-Null Count   Dtype  \n",
            "---  ------       --------------   -----  \n",
            " 0   step         594643 non-null  int64  \n",
            " 1   customer     594643 non-null  object \n",
            " 2   age          594643 non-null  object \n",
            " 3   gender       594643 non-null  object \n",
            " 4   zipcodeOri   594643 non-null  object \n",
            " 5   merchant     594643 non-null  object \n",
            " 6   zipMerchant  594643 non-null  object \n",
            " 7   category     594643 non-null  object \n",
            " 8   amount       594643 non-null  float64\n",
            " 9   fraud        594643 non-null  int64  \n",
            "dtypes: float64(1), int64(2), object(7)\n",
            "memory usage: 45.4+ MB\n"
          ],
          "name": "stdout"
        }
      ]
    },
    {
      "cell_type": "code",
      "metadata": {
        "colab": {
          "base_uri": "https://localhost:8080/"
        },
        "id": "RZSy-4IDU-LB",
        "outputId": "e487c23c-1387-4230-e5f7-06e318c4c6e1"
      },
      "source": [
        "#This line indicates the number of rows and columns in the database.\n",
        "data.shape"
      ],
      "execution_count": null,
      "outputs": [
        {
          "output_type": "execute_result",
          "data": {
            "text/plain": [
              "(594643, 10)"
            ]
          },
          "metadata": {
            "tags": []
          },
          "execution_count": 74
        }
      ]
    },
    {
      "cell_type": "code",
      "metadata": {
        "id": "uNveAtnKVwTs"
      },
      "source": [
        "#Function to check for null values in the database\n",
        "def check_null(dataset):\n",
        "    null=data.isna().sum()/dataset.shape[0]\n",
        "    return null[null > 0.0]"
      ],
      "execution_count": null,
      "outputs": []
    },
    {
      "cell_type": "code",
      "metadata": {
        "colab": {
          "base_uri": "https://localhost:8080/"
        },
        "id": "aGmYt6c1WBnC",
        "outputId": "07d1afed-feca-4101-b6d0-e44f8f392929"
      },
      "source": [
        "#Calling the function to print the null values\n",
        "check_null(data)"
      ],
      "execution_count": null,
      "outputs": [
        {
          "output_type": "execute_result",
          "data": {
            "text/plain": [
              "Series([], dtype: float64)"
            ]
          },
          "metadata": {
            "tags": []
          },
          "execution_count": 76
        }
      ]
    },
    {
      "cell_type": "code",
      "metadata": {
        "id": "DyGqykLCYWp0"
      },
      "source": [
        "# selected wanted columns\n",
        "cols = ['step','customer','age','gender','merchant','category','amount','fraud']\n",
        "data = data.loc[:,cols]"
      ],
      "execution_count": null,
      "outputs": []
    },
    {
      "cell_type": "code",
      "metadata": {
        "id": "VgO86bLCUuUm"
      },
      "source": [
        "#Function to remove unwanted characters from column value\n",
        "def remove_char(dataset,cols=[],new={}):\n",
        "  dataset[cols] = dataset[cols].replace(new, regex=True)\n",
        "  return dataset.head()"
      ],
      "execution_count": null,
      "outputs": []
    },
    {
      "cell_type": "code",
      "metadata": {
        "id": "UofC8E6tmdlA"
      },
      "source": [
        "remove_char(data,cols=['customer','age','gender','merchant','category'],new={\"'\":'', \"es_\":''})"
      ],
      "execution_count": null,
      "outputs": []
    },
    {
      "cell_type": "code",
      "metadata": {
        "id": "KqG95q3PX2S6"
      },
      "source": [
        "#check for duplicated value in the dataset\n",
        "data.duplicated().sum()"
      ],
      "execution_count": null,
      "outputs": []
    },
    {
      "cell_type": "code",
      "metadata": {
        "id": "3qxIsRAg4JxS"
      },
      "source": [
        "#Function that shows the number of unique values in dataset columns\n",
        "def dataset_cardinalite(dataset,is_number=True):\n",
        "  my_dict = dict()\n",
        "  for col in dataset.columns:\n",
        "    if is_number:\n",
        "      my_dict[col] = dataset[col].nunique()\n",
        "    else:\n",
        "       my_dict[col] = dataset[col].unique()\n",
        "  return my_dict"
      ],
      "execution_count": null,
      "outputs": []
    },
    {
      "cell_type": "code",
      "metadata": {
        "id": "fxrMkRTHpyTF"
      },
      "source": [
        "dataset_cardinalite(data)"
      ],
      "execution_count": null,
      "outputs": []
    },
    {
      "cell_type": "code",
      "metadata": {
        "id": "yzSg9wzjo4gU"
      },
      "source": [
        "#check unique values from gender column\n",
        "data.gender.unique()"
      ],
      "execution_count": null,
      "outputs": []
    },
    {
      "cell_type": "code",
      "metadata": {
        "id": "652NlZ4vtUc0"
      },
      "source": [
        "# Rename gender unique values \n",
        "data['gender']=data['gender'].replace(['M','F','E','U'],['Male','Female','Enterprise','Gender_Unknown'])"
      ],
      "execution_count": null,
      "outputs": []
    },
    {
      "cell_type": "code",
      "metadata": {
        "colab": {
          "base_uri": "https://localhost:8080/"
        },
        "id": "uV2AaZa3qh9K",
        "outputId": "eca9896c-a197-4cd1-9dc8-276ccaaf4545"
      },
      "source": [
        "data.category.unique()"
      ],
      "execution_count": null,
      "outputs": [
        {
          "output_type": "execute_result",
          "data": {
            "text/plain": [
              "array(['transportation', 'health', 'otherservices', 'food',\n",
              "       'hotelservices', 'barsandrestaurants', 'tech', 'sportsandtoys',\n",
              "       'wellnessandbeauty', 'hyper', 'fashion', 'home', 'contents',\n",
              "       'travel', 'leisure'], dtype=object)"
            ]
          },
          "metadata": {
            "tags": []
          },
          "execution_count": 134
        }
      ]
    },
    {
      "cell_type": "code",
      "metadata": {
        "id": "BQ8JZKtGAwOW"
      },
      "source": [
        "data['category']=data['category'].replace(['contents','home','food','health', 'hotelservices','otherservices','hyper','sportsandtoys','leisure','travel','tech','fashion','barsandrestaurants'],\n",
        "                                          ['restauration','domestic','domestic','domestic', 'restauration','restauration','wellnessandbeauty','wellnessandbeauty','wellnessandbeauty','wellnessandbeauty','wellnessandbeauty','wellnessandbeauty','restauration'])"
      ],
      "execution_count": null,
      "outputs": []
    },
    {
      "cell_type": "code",
      "metadata": {
        "colab": {
          "base_uri": "https://localhost:8080/"
        },
        "id": "xWmUEdLpA1EL",
        "outputId": "719da3b0-f14b-4066-8ed3-f7de2376c837"
      },
      "source": [
        "data.category.unique()"
      ],
      "execution_count": null,
      "outputs": [
        {
          "output_type": "execute_result",
          "data": {
            "text/plain": [
              "array(['transportation', 'domestic', 'restauration', 'wellnessandbeauty'],\n",
              "      dtype=object)"
            ]
          },
          "metadata": {
            "tags": []
          },
          "execution_count": 136
        }
      ]
    },
    {
      "cell_type": "code",
      "metadata": {
        "colab": {
          "base_uri": "https://localhost:8080/"
        },
        "id": "HN-IRx1Ir4zB",
        "outputId": "9fa18c1f-bb6c-430e-a061-d2323acdbc52"
      },
      "source": [
        "#Summary of the variable gender\n",
        "data.gender.value_counts(normalize=True)"
      ],
      "execution_count": null,
      "outputs": [
        {
          "output_type": "execute_result",
          "data": {
            "text/plain": [
              "Female            0.545815\n",
              "Male              0.451338\n",
              "Enterprise        0.001981\n",
              "Gender_Unknown    0.000866\n",
              "Name: gender, dtype: float64"
            ]
          },
          "metadata": {
            "tags": []
          },
          "execution_count": 137
        }
      ]
    },
    {
      "cell_type": "code",
      "metadata": {
        "colab": {
          "base_uri": "https://localhost:8080/"
        },
        "id": "JAUdEhMUzb_v",
        "outputId": "f7550a31-3f58-4038-9078-742537310a09"
      },
      "source": [
        "#Summary of the variable category\n",
        "data.category.value_counts(normalize=True)"
      ],
      "execution_count": null,
      "outputs": [
        {
          "output_type": "execute_result",
          "data": {
            "text/plain": [
              "transportation       0.849449\n",
              "domestic             0.074621\n",
              "wellnessandbeauty    0.059257\n",
              "restauration         0.016672\n",
              "Name: category, dtype: float64"
            ]
          },
          "metadata": {
            "tags": []
          },
          "execution_count": 138
        }
      ]
    },
    {
      "cell_type": "code",
      "metadata": {
        "colab": {
          "base_uri": "https://localhost:8080/"
        },
        "id": "6dvBKyAtztwB",
        "outputId": "4f100058-d6d7-4a8e-c696-3b94371db820"
      },
      "source": [
        "#Summary of the variable age\n",
        "data.age.value_counts(normalize=True)"
      ],
      "execution_count": null,
      "outputs": [
        {
          "output_type": "execute_result",
          "data": {
            "text/plain": [
              "2    0.314996\n",
              "3    0.247427\n",
              "4    0.183345\n",
              "5    0.105344\n",
              "1    0.097758\n",
              "6    0.045025\n",
              "0    0.004123\n",
              "U    0.001981\n",
              "Name: age, dtype: float64"
            ]
          },
          "metadata": {
            "tags": []
          },
          "execution_count": 139
        }
      ]
    },
    {
      "cell_type": "code",
      "metadata": {
        "colab": {
          "base_uri": "https://localhost:8080/",
          "height": 284
        },
        "id": "JUrY6H4_-5Qd",
        "outputId": "46c52b5a-2643-43e3-cd83-afbb29ab37d2"
      },
      "source": [
        "data.describe()"
      ],
      "execution_count": null,
      "outputs": [
        {
          "output_type": "execute_result",
          "data": {
            "text/html": [
              "<div>\n",
              "<style scoped>\n",
              "    .dataframe tbody tr th:only-of-type {\n",
              "        vertical-align: middle;\n",
              "    }\n",
              "\n",
              "    .dataframe tbody tr th {\n",
              "        vertical-align: top;\n",
              "    }\n",
              "\n",
              "    .dataframe thead th {\n",
              "        text-align: right;\n",
              "    }\n",
              "</style>\n",
              "<table border=\"1\" class=\"dataframe\">\n",
              "  <thead>\n",
              "    <tr style=\"text-align: right;\">\n",
              "      <th></th>\n",
              "      <th>step</th>\n",
              "      <th>amount</th>\n",
              "      <th>fraud</th>\n",
              "    </tr>\n",
              "  </thead>\n",
              "  <tbody>\n",
              "    <tr>\n",
              "      <th>count</th>\n",
              "      <td>594643.000000</td>\n",
              "      <td>594643.000000</td>\n",
              "      <td>594643.000000</td>\n",
              "    </tr>\n",
              "    <tr>\n",
              "      <th>mean</th>\n",
              "      <td>94.986827</td>\n",
              "      <td>37.890135</td>\n",
              "      <td>0.012108</td>\n",
              "    </tr>\n",
              "    <tr>\n",
              "      <th>std</th>\n",
              "      <td>51.053632</td>\n",
              "      <td>111.402831</td>\n",
              "      <td>0.109369</td>\n",
              "    </tr>\n",
              "    <tr>\n",
              "      <th>min</th>\n",
              "      <td>0.000000</td>\n",
              "      <td>0.000000</td>\n",
              "      <td>0.000000</td>\n",
              "    </tr>\n",
              "    <tr>\n",
              "      <th>25%</th>\n",
              "      <td>52.000000</td>\n",
              "      <td>13.740000</td>\n",
              "      <td>0.000000</td>\n",
              "    </tr>\n",
              "    <tr>\n",
              "      <th>50%</th>\n",
              "      <td>97.000000</td>\n",
              "      <td>26.900000</td>\n",
              "      <td>0.000000</td>\n",
              "    </tr>\n",
              "    <tr>\n",
              "      <th>75%</th>\n",
              "      <td>139.000000</td>\n",
              "      <td>42.540000</td>\n",
              "      <td>0.000000</td>\n",
              "    </tr>\n",
              "    <tr>\n",
              "      <th>max</th>\n",
              "      <td>179.000000</td>\n",
              "      <td>8329.960000</td>\n",
              "      <td>1.000000</td>\n",
              "    </tr>\n",
              "  </tbody>\n",
              "</table>\n",
              "</div>"
            ],
            "text/plain": [
              "                step         amount          fraud\n",
              "count  594643.000000  594643.000000  594643.000000\n",
              "mean       94.986827      37.890135       0.012108\n",
              "std        51.053632     111.402831       0.109369\n",
              "min         0.000000       0.000000       0.000000\n",
              "25%        52.000000      13.740000       0.000000\n",
              "50%        97.000000      26.900000       0.000000\n",
              "75%       139.000000      42.540000       0.000000\n",
              "max       179.000000    8329.960000       1.000000"
            ]
          },
          "metadata": {
            "tags": []
          },
          "execution_count": 140
        }
      ]
    },
    {
      "cell_type": "code",
      "metadata": {
        "colab": {
          "base_uri": "https://localhost:8080/",
          "height": 106
        },
        "id": "bE41zWgD33s5",
        "outputId": "586bffbe-a736-4c9c-d91a-e08f87b44ebe"
      },
      "source": [
        "data.head(2)"
      ],
      "execution_count": null,
      "outputs": [
        {
          "output_type": "execute_result",
          "data": {
            "text/html": [
              "<div>\n",
              "<style scoped>\n",
              "    .dataframe tbody tr th:only-of-type {\n",
              "        vertical-align: middle;\n",
              "    }\n",
              "\n",
              "    .dataframe tbody tr th {\n",
              "        vertical-align: top;\n",
              "    }\n",
              "\n",
              "    .dataframe thead th {\n",
              "        text-align: right;\n",
              "    }\n",
              "</style>\n",
              "<table border=\"1\" class=\"dataframe\">\n",
              "  <thead>\n",
              "    <tr style=\"text-align: right;\">\n",
              "      <th></th>\n",
              "      <th>step</th>\n",
              "      <th>customer</th>\n",
              "      <th>age</th>\n",
              "      <th>gender</th>\n",
              "      <th>merchant</th>\n",
              "      <th>category</th>\n",
              "      <th>amount</th>\n",
              "      <th>fraud</th>\n",
              "    </tr>\n",
              "  </thead>\n",
              "  <tbody>\n",
              "    <tr>\n",
              "      <th>0</th>\n",
              "      <td>0</td>\n",
              "      <td>C1093826151</td>\n",
              "      <td>4</td>\n",
              "      <td>Male</td>\n",
              "      <td>M348934600</td>\n",
              "      <td>transportation</td>\n",
              "      <td>4.55</td>\n",
              "      <td>0</td>\n",
              "    </tr>\n",
              "    <tr>\n",
              "      <th>1</th>\n",
              "      <td>0</td>\n",
              "      <td>C352968107</td>\n",
              "      <td>2</td>\n",
              "      <td>Male</td>\n",
              "      <td>M348934600</td>\n",
              "      <td>transportation</td>\n",
              "      <td>39.68</td>\n",
              "      <td>0</td>\n",
              "    </tr>\n",
              "  </tbody>\n",
              "</table>\n",
              "</div>"
            ],
            "text/plain": [
              "   step     customer age gender    merchant        category  amount  fraud\n",
              "0     0  C1093826151   4   Male  M348934600  transportation    4.55      0\n",
              "1     0   C352968107   2   Male  M348934600  transportation   39.68      0"
            ]
          },
          "metadata": {
            "tags": []
          },
          "execution_count": 141
        }
      ]
    },
    {
      "cell_type": "code",
      "metadata": {
        "id": "3Vv8wonBcnsQ"
      },
      "source": [
        "data[\"age\"]=data[\"age\"].map({\"0\":\"<=18 year\",\"1\":\"19-25 year\",\"2\":\"26-35 year\",\"3\":\"36-45 year\",\"4\":\"46-55 year\",\"5\":\"56-65 year\",\"6\":\">65 year\",\"U\":\"unknown\"})"
      ],
      "execution_count": null,
      "outputs": []
    },
    {
      "cell_type": "markdown",
      "metadata": {
        "id": "aHdSIc9lojkV"
      },
      "source": [
        "# Data Processing"
      ]
    },
    {
      "cell_type": "markdown",
      "metadata": {
        "id": "VX9y1EP0kb-W"
      },
      "source": [
        "List Of Categorical Variables -> Gender, Category, Fraud Merchant\n",
        "\n",
        "List Of Numerical variables -> Amount, Age"
      ]
    },
    {
      "cell_type": "markdown",
      "metadata": {
        "id": "cFOpfwH9os28"
      },
      "source": [
        "## Univariate Analysis "
      ]
    },
    {
      "cell_type": "code",
      "metadata": {
        "id": "Pi8Wg_xScfXl"
      },
      "source": [
        "def generate_barchart(data=None, title =\"\",abs_value =\"Total\",rel_value=\"Percent\",figsize =(10,6),percent=0.35):\n",
        "  plt.figure(figsize=figsize)\n",
        "  axes = sns.barplot(data=data,x=data.index,y=abs_value)\n",
        "  i=0\n",
        "  color =\"white\"\n",
        "  for tot, perc in zip(data[abs_value],data[rel_value]):\n",
        "    if tot/2 <30:\n",
        "      tot = 30\n",
        "      color=\"red\"\n",
        "    \n",
        "    axes.text(i,\n",
        "              tot/2,\n",
        "              str(np.round(perc*100,2))+ \"%\",\n",
        "               fontdict=dict(color=color,fontsize=12,horizontalalignment=\"center\")\n",
        "              )\n",
        "    axes.text(i,\n",
        "              tot+ 3,\n",
        "              str(tot),\n",
        "               fontdict=dict(color=\"blue\",fontsize=12,horizontalalignment=\"center\")\n",
        "              )\n",
        "    \n",
        "    i+=1\n",
        "  plt.title(title)\n",
        "  change_width(axes,percent)\n",
        "  plt.show()"
      ],
      "execution_count": null,
      "outputs": []
    },
    {
      "cell_type": "code",
      "metadata": {
        "id": "6NvnCT6OczWl"
      },
      "source": [
        "def change_width(ax, new_value) :\n",
        "    for patch in ax.patches :\n",
        "        current_width = patch.get_width()\n",
        "        diff = current_width - new_value\n",
        "\n",
        "        # we change the bar width\n",
        "        patch.set_width(new_value)\n",
        "\n",
        "        # we recenter the bar\n",
        "        patch.set_x(patch.get_x() + diff * .5)"
      ],
      "execution_count": null,
      "outputs": []
    },
    {
      "cell_type": "code",
      "metadata": {
        "id": "SZyYWI2BcK2O"
      },
      "source": [
        "# kakile frekans absoli ak frekans relativ yon varyab kategorik\n",
        "def prob_category(data,col=\"Pclass_letter\", abs_value =\"Total\",rel_value =\"Percent\",show_plot=False, title=\"\",horizontal=False,percent = 0.35):\n",
        "  # absolute value\n",
        "   res1 = data[col].value_counts().to_frame()\n",
        "   res1.columns = [abs_value]\n",
        "\n",
        "   res2 = data[col].value_counts(normalize=True).to_frame()\n",
        "   res2.columns = [rel_value]\n",
        "   if  not show_plot:\n",
        "     return pd.concat([res1,res2],axis=1)\n",
        "   else:\n",
        "     result = pd.concat([res1,res2],axis=1)\n",
        "     if len(result.index) >=3:\n",
        "       percent =0.8\n",
        "     generate_barchart(data=result, title =title,abs_value =abs_value,rel_value=rel_value,figsize =(10,6),percent = percent)\n",
        "     return result"
      ],
      "execution_count": null,
      "outputs": []
    },
    {
      "cell_type": "markdown",
      "metadata": {
        "id": "DaKDdSBur_as"
      },
      "source": [
        "### 1-. A summary of the target variable and the appropriate graph to represent it\n",
        "\n",
        "The target variable is Fraude"
      ]
    },
    {
      "cell_type": "code",
      "metadata": {
        "colab": {
          "base_uri": "https://localhost:8080/",
          "height": 480
        },
        "id": "rxa5XlxybrPZ",
        "outputId": "17672852-6c02-462e-d8c5-d8ff44d51224"
      },
      "source": [
        "prob_category(data, col='fraud', show_plot=True, title='Fraud Distribution', percent=0.35)"
      ],
      "execution_count": null,
      "outputs": [
        {
          "output_type": "display_data",
          "data": {
            "image/png": "[encoded data removed]",
            "text/plain": [
              "<Figure size 720x432 with 1 Axes>"
            ]
          },
          "metadata": {
            "tags": [],
            "needs_background": "light"
          }
        },
        {
          "output_type": "execute_result",
          "data": {
            "text/html": [
              "<div>\n",
              "<style scoped>\n",
              "    .dataframe tbody tr th:only-of-type {\n",
              "        vertical-align: middle;\n",
              "    }\n",
              "\n",
              "    .dataframe tbody tr th {\n",
              "        vertical-align: top;\n",
              "    }\n",
              "\n",
              "    .dataframe thead th {\n",
              "        text-align: right;\n",
              "    }\n",
              "</style>\n",
              "<table border=\"1\" class=\"dataframe\">\n",
              "  <thead>\n",
              "    <tr style=\"text-align: right;\">\n",
              "      <th></th>\n",
              "      <th>Total</th>\n",
              "      <th>Percent</th>\n",
              "    </tr>\n",
              "  </thead>\n",
              "  <tbody>\n",
              "    <tr>\n",
              "      <th>0</th>\n",
              "      <td>587443</td>\n",
              "      <td>0.987892</td>\n",
              "    </tr>\n",
              "    <tr>\n",
              "      <th>1</th>\n",
              "      <td>7200</td>\n",
              "      <td>0.012108</td>\n",
              "    </tr>\n",
              "  </tbody>\n",
              "</table>\n",
              "</div>"
            ],
            "text/plain": [
              "    Total   Percent\n",
              "0  587443  0.987892\n",
              "1    7200  0.012108"
            ]
          },
          "metadata": {
            "tags": []
          },
          "execution_count": 146
        }
      ]
    },
    {
      "cell_type": "code",
      "metadata": {
        "colab": {
          "base_uri": "https://localhost:8080/",
          "height": 106
        },
        "id": "OQ7yRFilpIu2",
        "outputId": "92c26cb8-3d4e-46a4-9ca1-a52051f3e9ad"
      },
      "source": [
        "pie=data.fraud.value_counts().to_frame()\n",
        "pie"
      ],
      "execution_count": null,
      "outputs": [
        {
          "output_type": "execute_result",
          "data": {
            "text/html": [
              "<div>\n",
              "<style scoped>\n",
              "    .dataframe tbody tr th:only-of-type {\n",
              "        vertical-align: middle;\n",
              "    }\n",
              "\n",
              "    .dataframe tbody tr th {\n",
              "        vertical-align: top;\n",
              "    }\n",
              "\n",
              "    .dataframe thead th {\n",
              "        text-align: right;\n",
              "    }\n",
              "</style>\n",
              "<table border=\"1\" class=\"dataframe\">\n",
              "  <thead>\n",
              "    <tr style=\"text-align: right;\">\n",
              "      <th></th>\n",
              "      <th>fraud</th>\n",
              "    </tr>\n",
              "  </thead>\n",
              "  <tbody>\n",
              "    <tr>\n",
              "      <th>0</th>\n",
              "      <td>587443</td>\n",
              "    </tr>\n",
              "    <tr>\n",
              "      <th>1</th>\n",
              "      <td>7200</td>\n",
              "    </tr>\n",
              "  </tbody>\n",
              "</table>\n",
              "</div>"
            ],
            "text/plain": [
              "    fraud\n",
              "0  587443\n",
              "1    7200"
            ]
          },
          "metadata": {
            "tags": []
          },
          "execution_count": 147
        }
      ]
    },
    {
      "cell_type": "code",
      "metadata": {
        "colab": {
          "base_uri": "https://localhost:8080/",
          "height": 481
        },
        "id": "51sDaklGxPj-",
        "outputId": "e7d4e035-2541-41c9-9a7f-061b7554ee11"
      },
      "source": [
        "# Creating plot\n",
        "fig = plt.figure(figsize =(10, 7))\n",
        "plt.pie(pie, labels = ['No_fraud','Fraud'],autopct='%1.1f%%')\n",
        "plt.title('Fraud Distribution')  \n",
        "# show plot\n",
        "plt.legend()\n",
        "plt.show()"
      ],
      "execution_count": null,
      "outputs": [
        {
          "output_type": "stream",
          "text": [
            "/usr/local/lib/python3.7/dist-packages/ipykernel_launcher.py:3: MatplotlibDeprecationWarning: Non-1D inputs to pie() are currently squeeze()d, but this behavior is deprecated since 3.1 and will be removed in 3.3; pass a 1D array instead.\n",
            "  This is separate from the ipykernel package so we can avoid doing imports until\n"
          ],
          "name": "stderr"
        },
        {
          "output_type": "display_data",
          "data": {
            "image/png": "[encoded data removed]",
            "text/plain": [
              "<Figure size 720x504 with 1 Axes>"
            ]
          },
          "metadata": {
            "tags": []
          }
        }
      ]
    },
    {
      "cell_type": "markdown",
      "metadata": {
        "id": "tkCFUwqcDNd9"
      },
      "source": [
        "We can see that the fraudulent transaction represent a really small part**(1.21%)** of the overall transaction that did go through the bank.\n"
      ]
    },
    {
      "cell_type": "markdown",
      "metadata": {
        "id": "vIPydRjlrPT4"
      },
      "source": [
        "### 2-. Statistics Summary From The Data\n"
      ]
    },
    {
      "cell_type": "markdown",
      "metadata": {
        "id": "LHIgMSj9r0S7"
      },
      "source": [
        "### Data Analysis Univariate for Categorical Variable\n",
        "\n",
        "Categorical variables -> Gender, Category, Fraud, Age"
      ]
    },
    {
      "cell_type": "code",
      "metadata": {
        "colab": {
          "base_uri": "https://localhost:8080/",
          "height": 540
        },
        "id": "greKa1Cu7gq6",
        "outputId": "260b13ae-143c-4e18-9e6d-122858064bc5"
      },
      "source": [
        "prob_category(data, col='gender', show_plot=True, title='Gender Distribution')"
      ],
      "execution_count": null,
      "outputs": [
        {
          "output_type": "display_data",
          "data": {
            "image/png": "[encoded data removed]",
            "text/plain": [
              "<Figure size 720x432 with 1 Axes>"
            ]
          },
          "metadata": {
            "tags": [],
            "needs_background": "light"
          }
        },
        {
          "output_type": "execute_result",
          "data": {
            "text/html": [
              "<div>\n",
              "<style scoped>\n",
              "    .dataframe tbody tr th:only-of-type {\n",
              "        vertical-align: middle;\n",
              "    }\n",
              "\n",
              "    .dataframe tbody tr th {\n",
              "        vertical-align: top;\n",
              "    }\n",
              "\n",
              "    .dataframe thead th {\n",
              "        text-align: right;\n",
              "    }\n",
              "</style>\n",
              "<table border=\"1\" class=\"dataframe\">\n",
              "  <thead>\n",
              "    <tr style=\"text-align: right;\">\n",
              "      <th></th>\n",
              "      <th>Total</th>\n",
              "      <th>Percent</th>\n",
              "    </tr>\n",
              "  </thead>\n",
              "  <tbody>\n",
              "    <tr>\n",
              "      <th>Female</th>\n",
              "      <td>324565</td>\n",
              "      <td>0.545815</td>\n",
              "    </tr>\n",
              "    <tr>\n",
              "      <th>Male</th>\n",
              "      <td>268385</td>\n",
              "      <td>0.451338</td>\n",
              "    </tr>\n",
              "    <tr>\n",
              "      <th>Enterprise</th>\n",
              "      <td>1178</td>\n",
              "      <td>0.001981</td>\n",
              "    </tr>\n",
              "    <tr>\n",
              "      <th>Gender_Unknown</th>\n",
              "      <td>515</td>\n",
              "      <td>0.000866</td>\n",
              "    </tr>\n",
              "  </tbody>\n",
              "</table>\n",
              "</div>"
            ],
            "text/plain": [
              "                 Total   Percent\n",
              "Female          324565  0.545815\n",
              "Male            268385  0.451338\n",
              "Enterprise        1178  0.001981\n",
              "Gender_Unknown     515  0.000866"
            ]
          },
          "metadata": {
            "tags": []
          },
          "execution_count": 149
        }
      ]
    },
    {
      "cell_type": "markdown",
      "metadata": {
        "id": "4bvNet_9DfXf"
      },
      "source": [
        "For the categorical variable gender ,there were 54.58% of the transaction that were made by female, 45.13% of of the transaction that were made by male, 0.1% of the transaction that were made by entreprise and 0.0866 % of the transaction were from no specific gender origin."
      ]
    },
    {
      "cell_type": "code",
      "metadata": {
        "colab": {
          "base_uri": "https://localhost:8080/",
          "height": 658
        },
        "id": "NzsjaqIUDUsF",
        "outputId": "84ac8936-9287-4de9-de9d-88e962406c15"
      },
      "source": [
        " prob_category(data, col='age', show_plot=True, title='Age Distribution')"
      ],
      "execution_count": null,
      "outputs": [
        {
          "output_type": "display_data",
          "data": {
            "image/png": "[encoded data removed]",
            "text/plain": [
              "<Figure size 720x432 with 1 Axes>"
            ]
          },
          "metadata": {
            "tags": [],
            "needs_background": "light"
          }
        },
        {
          "output_type": "execute_result",
          "data": {
            "text/html": [
              "<div>\n",
              "<style scoped>\n",
              "    .dataframe tbody tr th:only-of-type {\n",
              "        vertical-align: middle;\n",
              "    }\n",
              "\n",
              "    .dataframe tbody tr th {\n",
              "        vertical-align: top;\n",
              "    }\n",
              "\n",
              "    .dataframe thead th {\n",
              "        text-align: right;\n",
              "    }\n",
              "</style>\n",
              "<table border=\"1\" class=\"dataframe\">\n",
              "  <thead>\n",
              "    <tr style=\"text-align: right;\">\n",
              "      <th></th>\n",
              "      <th>Total</th>\n",
              "      <th>Percent</th>\n",
              "    </tr>\n",
              "  </thead>\n",
              "  <tbody>\n",
              "    <tr>\n",
              "      <th>26-35 year</th>\n",
              "      <td>187310</td>\n",
              "      <td>0.314996</td>\n",
              "    </tr>\n",
              "    <tr>\n",
              "      <th>36-45 year</th>\n",
              "      <td>147131</td>\n",
              "      <td>0.247427</td>\n",
              "    </tr>\n",
              "    <tr>\n",
              "      <th>46-55 year</th>\n",
              "      <td>109025</td>\n",
              "      <td>0.183345</td>\n",
              "    </tr>\n",
              "    <tr>\n",
              "      <th>56-65 year</th>\n",
              "      <td>62642</td>\n",
              "      <td>0.105344</td>\n",
              "    </tr>\n",
              "    <tr>\n",
              "      <th>19-25 year</th>\n",
              "      <td>58131</td>\n",
              "      <td>0.097758</td>\n",
              "    </tr>\n",
              "    <tr>\n",
              "      <th>&gt;65 year</th>\n",
              "      <td>26774</td>\n",
              "      <td>0.045025</td>\n",
              "    </tr>\n",
              "    <tr>\n",
              "      <th>&lt;=18 year</th>\n",
              "      <td>2452</td>\n",
              "      <td>0.004123</td>\n",
              "    </tr>\n",
              "    <tr>\n",
              "      <th>unknown</th>\n",
              "      <td>1178</td>\n",
              "      <td>0.001981</td>\n",
              "    </tr>\n",
              "  </tbody>\n",
              "</table>\n",
              "</div>"
            ],
            "text/plain": [
              "             Total   Percent\n",
              "26-35 year  187310  0.314996\n",
              "36-45 year  147131  0.247427\n",
              "46-55 year  109025  0.183345\n",
              "56-65 year   62642  0.105344\n",
              "19-25 year   58131  0.097758\n",
              ">65 year     26774  0.045025\n",
              "<=18 year     2452  0.004123\n",
              "unknown       1178  0.001981"
            ]
          },
          "metadata": {
            "tags": []
          },
          "execution_count": 150
        }
      ]
    },
    {
      "cell_type": "markdown",
      "metadata": {
        "id": "HyizRrQ1FkzU"
      },
      "source": [
        "for the categorical variable age distribution, the client that had a account for 2 year represented 31.5%, those that had one for 3 year represented 24.74%, those that had one for 4 years 18.33%, those that had one for 5 years 10.53%, for one year 9.78% for 6years 4.5% and those that had one for less than a year 0.4123% "
      ]
    },
    {
      "cell_type": "code",
      "metadata": {
        "colab": {
          "base_uri": "https://localhost:8080/",
          "height": 539
        },
        "id": "JJYoUPmXs5eh",
        "outputId": "af636ba9-6deb-4268-ce98-ee1cb3ff83a4"
      },
      "source": [
        "prob_category(data, col='category', show_plot=True, title='Category Distribution',horizontal=True)"
      ],
      "execution_count": null,
      "outputs": [
        {
          "output_type": "display_data",
          "data": {
            "image/png": "[encoded data removed]",
            "text/plain": [
              "<Figure size 720x432 with 1 Axes>"
            ]
          },
          "metadata": {
            "tags": [],
            "needs_background": "light"
          }
        },
        {
          "output_type": "execute_result",
          "data": {
            "text/html": [
              "<div>\n",
              "<style scoped>\n",
              "    .dataframe tbody tr th:only-of-type {\n",
              "        vertical-align: middle;\n",
              "    }\n",
              "\n",
              "    .dataframe tbody tr th {\n",
              "        vertical-align: top;\n",
              "    }\n",
              "\n",
              "    .dataframe thead th {\n",
              "        text-align: right;\n",
              "    }\n",
              "</style>\n",
              "<table border=\"1\" class=\"dataframe\">\n",
              "  <thead>\n",
              "    <tr style=\"text-align: right;\">\n",
              "      <th></th>\n",
              "      <th>Total</th>\n",
              "      <th>Percent</th>\n",
              "    </tr>\n",
              "  </thead>\n",
              "  <tbody>\n",
              "    <tr>\n",
              "      <th>transportation</th>\n",
              "      <td>505119</td>\n",
              "      <td>0.849449</td>\n",
              "    </tr>\n",
              "    <tr>\n",
              "      <th>domestic</th>\n",
              "      <td>44373</td>\n",
              "      <td>0.074621</td>\n",
              "    </tr>\n",
              "    <tr>\n",
              "      <th>wellnessandbeauty</th>\n",
              "      <td>35237</td>\n",
              "      <td>0.059257</td>\n",
              "    </tr>\n",
              "    <tr>\n",
              "      <th>restauration</th>\n",
              "      <td>9914</td>\n",
              "      <td>0.016672</td>\n",
              "    </tr>\n",
              "  </tbody>\n",
              "</table>\n",
              "</div>"
            ],
            "text/plain": [
              "                    Total   Percent\n",
              "transportation     505119  0.849449\n",
              "domestic            44373  0.074621\n",
              "wellnessandbeauty   35237  0.059257\n",
              "restauration         9914  0.016672"
            ]
          },
          "metadata": {
            "tags": []
          },
          "execution_count": 151
        }
      ]
    },
    {
      "cell_type": "markdown",
      "metadata": {
        "id": "zRFESEV6IhQb"
      },
      "source": [
        "for the categorical variable transaction category, transportation transaction accounted for 84.94%  the total sum of transactions completed , domestic transaction accounted for 7.46%, wellnessandbeauty for 5.93% and restauration for 1.66%."
      ]
    },
    {
      "cell_type": "markdown",
      "metadata": {
        "id": "V5ikjmFdP9Fi"
      },
      "source": [
        "### Data Analysis Quantitative Univariate\n",
        "\n",
        "Quantative variables -> Amount"
      ]
    },
    {
      "cell_type": "code",
      "metadata": {
        "colab": {
          "base_uri": "https://localhost:8080/",
          "height": 444
        },
        "id": "hFQar61LQLhI",
        "outputId": "5cf7e874-7bf9-4255-b92a-c7370e6e33de"
      },
      "source": [
        "# Histogram with rugplot and kde \n",
        "fig=plt.figure(figsize=(10,6))\n",
        "sns.distplot(x=data['amount'], kde=True)\n",
        "plt.title(\"Amount distribution\")\n",
        "plt.show()"
      ],
      "execution_count": null,
      "outputs": [
        {
          "output_type": "stream",
          "text": [
            "/usr/local/lib/python3.7/dist-packages/seaborn/distributions.py:2557: FutureWarning: `distplot` is a deprecated function and will be removed in a future version. Please adapt your code to use either `displot` (a figure-level function with similar flexibility) or `histplot` (an axes-level function for histograms).\n",
            "  warnings.warn(msg, FutureWarning)\n"
          ],
          "name": "stderr"
        },
        {
          "output_type": "display_data",
          "data": {
            "image/png": "[encoded data removed]",
            "text/plain": [
              "<Figure size 720x432 with 1 Axes>"
            ]
          },
          "metadata": {
            "tags": [],
            "needs_background": "light"
          }
        }
      ]
    },
    {
      "cell_type": "code",
      "metadata": {
        "colab": {
          "base_uri": "https://localhost:8080/",
          "height": 444
        },
        "id": "9LNBBDKvMdzm",
        "outputId": "8ca4af83-c70c-48fb-d561-1cf8ea92f590"
      },
      "source": [
        "fig=plt.figure(figsize=(10,6))\n",
        "sns.distplot(x=data['amount'][data[\"amount\"]<250], kde=True)\n",
        "plt.title(\"Amount distribution\")\n",
        "plt.show()"
      ],
      "execution_count": null,
      "outputs": [
        {
          "output_type": "stream",
          "text": [
            "/usr/local/lib/python3.7/dist-packages/seaborn/distributions.py:2557: FutureWarning: `distplot` is a deprecated function and will be removed in a future version. Please adapt your code to use either `displot` (a figure-level function with similar flexibility) or `histplot` (an axes-level function for histograms).\n",
            "  warnings.warn(msg, FutureWarning)\n"
          ],
          "name": "stderr"
        },
        {
          "output_type": "display_data",
          "data": {
            "image/png": "[encoded data removed]",
            "text/plain": [
              "<Figure size 720x432 with 1 Axes>"
            ]
          },
          "metadata": {
            "tags": [],
            "needs_background": "light"
          }
        }
      ]
    },
    {
      "cell_type": "markdown",
      "metadata": {
        "id": "yW_dDazSOCcA"
      },
      "source": [
        "the greatest number of transaction were made for a amount of less than 100 $"
      ]
    },
    {
      "cell_type": "code",
      "metadata": {
        "colab": {
          "base_uri": "https://localhost:8080/",
          "height": 516
        },
        "id": "bTYKBOnGm4tV",
        "outputId": "4b758401-78cc-4d64-ff51-58738c127881"
      },
      "source": [
        "# Age Univariate Analysis\n",
        "data.boxplot(column=\"amount\",figsize=(10,8))\n",
        "plt.title(\"Age Boxplot Distribution\")\n"
      ],
      "execution_count": null,
      "outputs": [
        {
          "output_type": "execute_result",
          "data": {
            "text/plain": [
              "Text(0.5, 1.0, 'Age Boxplot Distribution')"
            ]
          },
          "metadata": {
            "tags": []
          },
          "execution_count": 154
        },
        {
          "output_type": "display_data",
          "data": {
            "image/png": "[encoded data removed]",
            "text/plain": [
              "<Figure size 720x576 with 1 Axes>"
            ]
          },
          "metadata": {
            "tags": [],
            "needs_background": "light"
          }
        }
      ]
    },
    {
      "cell_type": "code",
      "metadata": {
        "colab": {
          "base_uri": "https://localhost:8080/",
          "height": 516
        },
        "id": "D6LJMZdFObd3",
        "outputId": "2fa9dfea-dbe8-474e-d81d-03a86eeb8766"
      },
      "source": [
        "# Age Univariate Analysis\n",
        "data[data[\"amount\"]<200].boxplot(column=\"amount\",figsize=(10,8))\n",
        "plt.title(\"AMount Boxplot Distribution\")\n"
      ],
      "execution_count": null,
      "outputs": [
        {
          "output_type": "execute_result",
          "data": {
            "text/plain": [
              "Text(0.5, 1.0, 'AMount Boxplot Distribution')"
            ]
          },
          "metadata": {
            "tags": []
          },
          "execution_count": 155
        },
        {
          "output_type": "display_data",
          "data": {
            "image/png": "[encoded data removed]",
            "text/plain": [
              "<Figure size 720x576 with 1 Axes>"
            ]
          },
          "metadata": {
            "tags": [],
            "needs_background": "light"
          }
        }
      ]
    },
    {
      "cell_type": "code",
      "metadata": {
        "colab": {
          "base_uri": "https://localhost:8080/"
        },
        "id": "YyUIajZKOqRL",
        "outputId": "13e7d484-8631-427d-952d-5b744926ee57"
      },
      "source": [
        "data.amount.describe()"
      ],
      "execution_count": null,
      "outputs": [
        {
          "output_type": "execute_result",
          "data": {
            "text/plain": [
              "count    594643.000000\n",
              "mean         37.890135\n",
              "std         111.402831\n",
              "min           0.000000\n",
              "25%          13.740000\n",
              "50%          26.900000\n",
              "75%          42.540000\n",
              "max        8329.960000\n",
              "Name: amount, dtype: float64"
            ]
          },
          "metadata": {
            "tags": []
          },
          "execution_count": 156
        }
      ]
    },
    {
      "cell_type": "markdown",
      "metadata": {
        "id": "57Y6qAKRowL0"
      },
      "source": [
        "## Data Analysis Bivariate\n",
        "\n",
        "#### Fraud vs Category\n",
        "\n",
        "#### Fraud vs Genre\n",
        "\n",
        "#### Fraud vs Age\n"
      ]
    },
    {
      "cell_type": "code",
      "metadata": {
        "id": "zEv1wGjqlxpF",
        "colab": {
          "base_uri": "https://localhost:8080/",
          "height": 195
        },
        "outputId": "655cbc67-fa65-40b5-da6b-7c5b553ccac0"
      },
      "source": [
        "data['index']=data.index\n",
        "fraud_category = pd.pivot_table(data=data,index=\"category\",columns=\"fraud\",values =\"amount\",aggfunc=\"sum\",fill_value=0)\n",
        "fraud_category=fraud_category.sort_values(1, ascending=False)\n",
        "fraud_category"
      ],
      "execution_count": null,
      "outputs": [
        {
          "output_type": "execute_result",
          "data": {
            "text/html": [
              "<div>\n",
              "<style scoped>\n",
              "    .dataframe tbody tr th:only-of-type {\n",
              "        vertical-align: middle;\n",
              "    }\n",
              "\n",
              "    .dataframe tbody tr th {\n",
              "        vertical-align: top;\n",
              "    }\n",
              "\n",
              "    .dataframe thead th {\n",
              "        text-align: right;\n",
              "    }\n",
              "</style>\n",
              "<table border=\"1\" class=\"dataframe\">\n",
              "  <thead>\n",
              "    <tr style=\"text-align: right;\">\n",
              "      <th>fraud</th>\n",
              "      <th>0</th>\n",
              "      <th>1</th>\n",
              "    </tr>\n",
              "    <tr>\n",
              "      <th>category</th>\n",
              "      <th></th>\n",
              "      <th></th>\n",
              "    </tr>\n",
              "  </thead>\n",
              "  <tbody>\n",
              "    <tr>\n",
              "      <th>wellnessandbeauty</th>\n",
              "      <td>1.953666e+06</td>\n",
              "      <td>2671180.22</td>\n",
              "    </tr>\n",
              "    <tr>\n",
              "      <th>domestic</th>\n",
              "      <td>2.661763e+06</td>\n",
              "      <td>828485.57</td>\n",
              "    </tr>\n",
              "    <tr>\n",
              "      <th>restauration</th>\n",
              "      <td>4.759115e+05</td>\n",
              "      <td>323005.38</td>\n",
              "    </tr>\n",
              "    <tr>\n",
              "      <th>transportation</th>\n",
              "      <td>1.361709e+07</td>\n",
              "      <td>0.00</td>\n",
              "    </tr>\n",
              "  </tbody>\n",
              "</table>\n",
              "</div>"
            ],
            "text/plain": [
              "fraud                         0           1\n",
              "category                                   \n",
              "wellnessandbeauty  1.953666e+06  2671180.22\n",
              "domestic           2.661763e+06   828485.57\n",
              "restauration       4.759115e+05   323005.38\n",
              "transportation     1.361709e+07        0.00"
            ]
          },
          "metadata": {
            "tags": []
          },
          "execution_count": 243
        }
      ]
    },
    {
      "cell_type": "code",
      "metadata": {
        "id": "DAmyX7qi5W-x",
        "colab": {
          "base_uri": "https://localhost:8080/",
          "height": 531
        },
        "outputId": "b490ee00-f128-4c79-ebc3-e0a100d841df"
      },
      "source": [
        "ax=fraud_category.plot(kind='barh', width=0.5)\n",
        "fig = ax.get_figure()\n",
        "# Change the plot dimensions (width, height)\n",
        "fig.set_size_inches(14, 8)"
      ],
      "execution_count": null,
      "outputs": [
        {
          "output_type": "execute_result",
          "data": {
            "application/vnd.google.colaboratory.intrinsic+json": {
              "type": "string"
            },
            "text/plain": [
              "\"for p in ax.patches:\\n    width = p.get_width()\\n    height = p.get_height()\\n    x, y = p.get_xy() \\n    ax.annotate(f'{height:.0%}', (x + width/2, y + height*1.02), ha='center')\""
            ]
          },
          "metadata": {
            "tags": []
          },
          "execution_count": 158
        },
        {
          "output_type": "display_data",
          "data": {
            "image/png": "[encoded data removed]",
            "text/plain": [
              "<Figure size 1008x576 with 1 Axes>"
            ]
          },
          "metadata": {
            "tags": [],
            "needs_background": "light"
          }
        }
      ]
    },
    {
      "cell_type": "code",
      "metadata": {
        "colab": {
          "base_uri": "https://localhost:8080/",
          "height": 195
        },
        "id": "w71hnpIF0PSj",
        "outputId": "78964784-0d9e-45f1-8894-b438f911a2de"
      },
      "source": [
        "fraud_gender = pd.pivot_table(data=data,index=\"gender\",columns=\"fraud\",values =\"amount\",aggfunc='sum',fill_value=0)\n",
        "fraud_gender=fraud_gender.sort_values(1, ascending=False)\n",
        "fraud_gender"
      ],
      "execution_count": null,
      "outputs": [
        {
          "output_type": "execute_result",
          "data": {
            "text/html": [
              "<div>\n",
              "<style scoped>\n",
              "    .dataframe tbody tr th:only-of-type {\n",
              "        vertical-align: middle;\n",
              "    }\n",
              "\n",
              "    .dataframe tbody tr th {\n",
              "        vertical-align: top;\n",
              "    }\n",
              "\n",
              "    .dataframe thead th {\n",
              "        text-align: right;\n",
              "    }\n",
              "</style>\n",
              "<table border=\"1\" class=\"dataframe\">\n",
              "  <thead>\n",
              "    <tr style=\"text-align: right;\">\n",
              "      <th>fraud</th>\n",
              "      <th>0</th>\n",
              "      <th>1</th>\n",
              "    </tr>\n",
              "    <tr>\n",
              "      <th>gender</th>\n",
              "      <th></th>\n",
              "      <th></th>\n",
              "    </tr>\n",
              "  </thead>\n",
              "  <tbody>\n",
              "    <tr>\n",
              "      <th>Female</th>\n",
              "      <td>10223625.68</td>\n",
              "      <td>2503555.82</td>\n",
              "    </tr>\n",
              "    <tr>\n",
              "      <th>Male</th>\n",
              "      <td>8428746.65</td>\n",
              "      <td>1315801.14</td>\n",
              "    </tr>\n",
              "    <tr>\n",
              "      <th>Enterprise</th>\n",
              "      <td>39833.13</td>\n",
              "      <td>3314.21</td>\n",
              "    </tr>\n",
              "    <tr>\n",
              "      <th>Gender_Unknown</th>\n",
              "      <td>16227.10</td>\n",
              "      <td>0.00</td>\n",
              "    </tr>\n",
              "  </tbody>\n",
              "</table>\n",
              "</div>"
            ],
            "text/plain": [
              "fraud                     0           1\n",
              "gender                                 \n",
              "Female          10223625.68  2503555.82\n",
              "Male             8428746.65  1315801.14\n",
              "Enterprise         39833.13     3314.21\n",
              "Gender_Unknown     16227.10        0.00"
            ]
          },
          "metadata": {
            "tags": []
          },
          "execution_count": 240
        }
      ]
    },
    {
      "cell_type": "code",
      "metadata": {
        "colab": {
          "base_uri": "https://localhost:8080/"
        },
        "id": "uFsihNgkVMc2",
        "outputId": "c0d24f9b-a674-4738-bbf5-d300d0a5a943"
      },
      "source": [
        "a=fraud_gender.iat[0,0]-fraud_gender.iat[1,0]\n",
        "b=fraud_gender.iat[0,1]-fraud_gender.iat[1,1]\n",
        "print(a,b)\n",
        "print(fraud_gender.iat[0,1])\n",
        "print(fraud_gender.iat[1,1])"
      ],
      "execution_count": null,
      "outputs": [
        {
          "output_type": "stream",
          "text": [
            "1794879.0300000347 1187754.6799999971\n",
            "2503555.8199999975\n",
            "1315801.1400000004\n"
          ],
          "name": "stdout"
        }
      ]
    },
    {
      "cell_type": "code",
      "metadata": {
        "colab": {
          "base_uri": "https://localhost:8080/",
          "height": 496
        },
        "id": "LXqhHANd87u3",
        "outputId": "d275784a-be80-4260-a4a3-a6e7709366cb"
      },
      "source": [
        "graph=fraud_gender.plot(kind='barh', width=0.5)\n",
        "fig = graph.get_figure()\n",
        "# Change the plot dimensions (width, height)\n",
        "fig.set_size_inches(14, 8)"
      ],
      "execution_count": null,
      "outputs": [
        {
          "output_type": "display_data",
          "data": {
            "image/png": "[encoded data removed]",
            "text/plain": [
              "<Figure size 1008x576 with 1 Axes>"
            ]
          },
          "metadata": {
            "tags": [],
            "needs_background": "light"
          }
        }
      ]
    },
    {
      "cell_type": "code",
      "metadata": {
        "colab": {
          "base_uri": "https://localhost:8080/",
          "height": 343
        },
        "id": "JjhI3PXk9sno",
        "outputId": "ecf0ce82-67a0-41f7-f639-40efd1c6389b"
      },
      "source": [
        "fraud_age = pd.pivot_table(data=data,index=\"age\",columns=\"fraud\",values =\"index\",aggfunc=\"count\",fill_value=0,margins=1)\n",
        "fraud_age=fraud_age.sort_values(1, ascending=False)\n",
        "fraud_age"
      ],
      "execution_count": null,
      "outputs": [
        {
          "output_type": "execute_result",
          "data": {
            "text/html": [
              "<div>\n",
              "<style scoped>\n",
              "    .dataframe tbody tr th:only-of-type {\n",
              "        vertical-align: middle;\n",
              "    }\n",
              "\n",
              "    .dataframe tbody tr th {\n",
              "        vertical-align: top;\n",
              "    }\n",
              "\n",
              "    .dataframe thead th {\n",
              "        text-align: right;\n",
              "    }\n",
              "</style>\n",
              "<table border=\"1\" class=\"dataframe\">\n",
              "  <thead>\n",
              "    <tr style=\"text-align: right;\">\n",
              "      <th>fraud</th>\n",
              "      <th>0</th>\n",
              "      <th>1</th>\n",
              "      <th>All</th>\n",
              "    </tr>\n",
              "    <tr>\n",
              "      <th>age</th>\n",
              "      <th></th>\n",
              "      <th></th>\n",
              "      <th></th>\n",
              "    </tr>\n",
              "  </thead>\n",
              "  <tbody>\n",
              "    <tr>\n",
              "      <th>All</th>\n",
              "      <td>587443</td>\n",
              "      <td>7200</td>\n",
              "      <td>594643</td>\n",
              "    </tr>\n",
              "    <tr>\n",
              "      <th>26-35 year</th>\n",
              "      <td>184966</td>\n",
              "      <td>2344</td>\n",
              "      <td>187310</td>\n",
              "    </tr>\n",
              "    <tr>\n",
              "      <th>36-45 year</th>\n",
              "      <td>145376</td>\n",
              "      <td>1755</td>\n",
              "      <td>147131</td>\n",
              "    </tr>\n",
              "    <tr>\n",
              "      <th>46-55 year</th>\n",
              "      <td>107615</td>\n",
              "      <td>1410</td>\n",
              "      <td>109025</td>\n",
              "    </tr>\n",
              "    <tr>\n",
              "      <th>19-25 year</th>\n",
              "      <td>57442</td>\n",
              "      <td>689</td>\n",
              "      <td>58131</td>\n",
              "    </tr>\n",
              "    <tr>\n",
              "      <th>56-65 year</th>\n",
              "      <td>61956</td>\n",
              "      <td>686</td>\n",
              "      <td>62642</td>\n",
              "    </tr>\n",
              "    <tr>\n",
              "      <th>&gt;65 year</th>\n",
              "      <td>26513</td>\n",
              "      <td>261</td>\n",
              "      <td>26774</td>\n",
              "    </tr>\n",
              "    <tr>\n",
              "      <th>&lt;=18 year</th>\n",
              "      <td>2404</td>\n",
              "      <td>48</td>\n",
              "      <td>2452</td>\n",
              "    </tr>\n",
              "    <tr>\n",
              "      <th>unknown</th>\n",
              "      <td>1171</td>\n",
              "      <td>7</td>\n",
              "      <td>1178</td>\n",
              "    </tr>\n",
              "  </tbody>\n",
              "</table>\n",
              "</div>"
            ],
            "text/plain": [
              "fraud            0     1     All\n",
              "age                             \n",
              "All         587443  7200  594643\n",
              "26-35 year  184966  2344  187310\n",
              "36-45 year  145376  1755  147131\n",
              "46-55 year  107615  1410  109025\n",
              "19-25 year   57442   689   58131\n",
              "56-65 year   61956   686   62642\n",
              ">65 year     26513   261   26774\n",
              "<=18 year     2404    48    2452\n",
              "unknown       1171     7    1178"
            ]
          },
          "metadata": {
            "tags": []
          },
          "execution_count": 244
        }
      ]
    },
    {
      "cell_type": "code",
      "metadata": {
        "colab": {
          "base_uri": "https://localhost:8080/",
          "height": 496
        },
        "id": "g0chpWXs98Jt",
        "outputId": "5c879a63-d377-4a73-872c-13c69221e264"
      },
      "source": [
        "graph=fraud_age.plot(kind='barh', width=0.5)\n",
        "fig = graph.get_figure()\n",
        "# Change the plot dimensions (width, height)\n",
        "fig.set_size_inches(14, 8)"
      ],
      "execution_count": null,
      "outputs": [
        {
          "output_type": "display_data",
          "data": {
            "image/png": "[encoded data removed]",
            "text/plain": [
              "<Figure size 1008x576 with 1 Axes>"
            ]
          },
          "metadata": {
            "tags": [],
            "needs_background": "light"
          }
        }
      ]
    },
    {
      "cell_type": "code",
      "metadata": {
        "colab": {
          "base_uri": "https://localhost:8080/",
          "height": 514
        },
        "id": "PuQ0vNLbVISQ",
        "outputId": "7d14bbad-5246-4dfd-a2d3-cbd3143508f7"
      },
      "source": [
        "plt.figure(figsize=(12,8))\n",
        "sns.heatmap(fraud_amount, annot=True, cmap=\"YlGnBu\")"
      ],
      "execution_count": null,
      "outputs": [
        {
          "output_type": "execute_result",
          "data": {
            "text/plain": [
              "<matplotlib.axes._subplots.AxesSubplot at 0x7f84ac531590>"
            ]
          },
          "metadata": {
            "tags": []
          },
          "execution_count": 164
        },
        {
          "output_type": "display_data",
          "data": {
            "image/png": "[encoded data removed]",
            "text/plain": [
              "<Figure size 864x576 with 2 Axes>"
            ]
          },
          "metadata": {
            "tags": [],
            "needs_background": "light"
          }
        }
      ]
    },
    {
      "cell_type": "code",
      "metadata": {
        "id": "7-3GSEBJO_lI"
      },
      "source": [
        "from scipy.stats import chi2_contingency\n"
      ],
      "execution_count": null,
      "outputs": []
    },
    {
      "cell_type": "code",
      "metadata": {
        "colab": {
          "base_uri": "https://localhost:8080/"
        },
        "id": "ZH-1Y541Or3q",
        "outputId": "0d2fb72b-07ef-4c8d-f2a5-a316673a5e60"
      },
      "source": [
        "fraud_amount.T.values"
      ],
      "execution_count": null,
      "outputs": [
        {
          "output_type": "execute_result",
          "data": {
            "text/plain": [
              "array([[587443, 184966, 145376, 107615,  61956,  57442,  26513,   2404,\n",
              "          1171],\n",
              "       [  7200,   2344,   1755,   1410,    686,    689,    261,     48,\n",
              "             7],\n",
              "       [594643, 187310, 147131, 109025,  62642,  58131,  26774,   2452,\n",
              "          1178]])"
            ]
          },
          "metadata": {
            "tags": []
          },
          "execution_count": 166
        }
      ]
    },
    {
      "cell_type": "markdown",
      "metadata": {
        "id": "aXKBP-riSvHe"
      },
      "source": [
        "Null Hypothesis H0: \n",
        "fraud and gender are independent\n",
        "\n",
        "Alternative Hypothesis H1 : \n",
        "fraud and gender are not independent;"
      ]
    },
    {
      "cell_type": "code",
      "metadata": {
        "colab": {
          "base_uri": "https://localhost:8080/"
        },
        "id": "xd76TpuqSjmb",
        "outputId": "68f88764-af46-45b9-d3f6-cd2d36ebae50"
      },
      "source": [
        "# Apply Test\n",
        "stat, p, dof, expected = chi2_contingency(fraud_gender.T.values)\n",
        "print(\"p-values:\",p)\n",
        "if p < 0.05:\n",
        " print(\"Hypothesis Rejected\")\n",
        "else:\n",
        " print(\"Hypothesis Accepted\")"
      ],
      "execution_count": null,
      "outputs": [
        {
          "output_type": "stream",
          "text": [
            "p-values: 0.0\n",
            "Hypothesis Rejected\n"
          ],
          "name": "stdout"
        }
      ]
    },
    {
      "cell_type": "markdown",
      "metadata": {
        "id": "LkfE8PTPTIBW"
      },
      "source": [
        "We rejected the null Hypothesis\n",
        "\n",
        "That to say, gender and fraud are not independent"
      ]
    },
    {
      "cell_type": "code",
      "metadata": {
        "id": "wB2JU4n9ToOP",
        "colab": {
          "base_uri": "https://localhost:8080/"
        },
        "outputId": "df9d979c-9c07-48e2-bd9e-3d3ffd4f176d"
      },
      "source": [
        "fraud_cat = pd.pivot_table(data=data,index=\"category\",columns=\"fraud\",values =\"index\",aggfunc=\"count\",fill_value=0)\n",
        "fraud_cat=fraud_cat.sort_values(0, ascending=False)\n",
        "fraud_cat.T.values"
      ],
      "execution_count": null,
      "outputs": [
        {
          "output_type": "execute_result",
          "data": {
            "text/plain": [
              "array([[505119,  42375,  30931,   9018],\n",
              "       [     0,   1998,   4306,    896]])"
            ]
          },
          "metadata": {
            "tags": []
          },
          "execution_count": 168
        }
      ]
    },
    {
      "cell_type": "code",
      "metadata": {
        "id": "2f2QWQldVrdp",
        "colab": {
          "base_uri": "https://localhost:8080/"
        },
        "outputId": "73b5d1b4-f3bb-4cb2-eea6-55cbf1ac0d51"
      },
      "source": [
        "# Apply Test\n",
        "stat, p, dof, expected = chi2_contingency(fraud_cat.T.values)\n",
        "print(\"p-values:\",p)\n",
        "if p < 0.05:\n",
        " print(\"Hypothesis Rejected\")\n",
        "else:\n",
        " print(\"Hypothesis Accepted\")"
      ],
      "execution_count": null,
      "outputs": [
        {
          "output_type": "stream",
          "text": [
            "p-values: 0.0\n",
            "Hypothesis Rejected\n"
          ],
          "name": "stdout"
        }
      ]
    },
    {
      "cell_type": "markdown",
      "metadata": {
        "id": "KnLF0sk_YcQe"
      },
      "source": [
        "We rejected the null Hypothesis\n",
        "\n",
        "That to say, category and fraud are not independent"
      ]
    },
    {
      "cell_type": "code",
      "metadata": {
        "id": "nIht3GZcWDE1",
        "colab": {
          "base_uri": "https://localhost:8080/"
        },
        "outputId": "8d06e5f4-bae2-4e3d-8558-2f5a069c1bf7"
      },
      "source": [
        "fraud_amount = pd.pivot_table(data=data,index=\"amount\",columns=\"fraud\",values =\"index\",aggfunc=\"count\",fill_value=0)\n",
        "fraud_amount=fraud_amount.sort_values(0, ascending=False)\n",
        "fraud_amount.T.values"
      ],
      "execution_count": null,
      "outputs": [
        {
          "output_type": "execute_result",
          "data": {
            "text/plain": [
              "array([[146, 146, 144, ...,   0,   0,   0],\n",
              "       [  0,   0,   1, ...,   1,   1,   1]])"
            ]
          },
          "metadata": {
            "tags": []
          },
          "execution_count": 170
        }
      ]
    },
    {
      "cell_type": "code",
      "metadata": {
        "id": "LFCNmjUvWPhU",
        "colab": {
          "base_uri": "https://localhost:8080/"
        },
        "outputId": "9a223e56-6c0f-4d8c-9237-90a27221fa2f"
      },
      "source": [
        "# Apply Test\n",
        "stat, p, dof, expected = chi2_contingency(fraud_amount.T.values)\n",
        "print(\"p-values:\",p)\n",
        "if p < 0.05:\n",
        " print(\"Hypothesis Rejected\")\n",
        "else:\n",
        " print(\"Hypothesis Accepted\")"
      ],
      "execution_count": null,
      "outputs": [
        {
          "output_type": "stream",
          "text": [
            "p-values: 0.0\n",
            "Hypothesis Rejected\n"
          ],
          "name": "stdout"
        }
      ]
    },
    {
      "cell_type": "markdown",
      "metadata": {
        "id": "IclcIGegYrIM"
      },
      "source": [
        "We rejected the null Hypothesis\n",
        "\n",
        "That to say, amount and fraud are not independent"
      ]
    },
    {
      "cell_type": "code",
      "metadata": {
        "id": "xlImQm98Y2Nl",
        "colab": {
          "base_uri": "https://localhost:8080/",
          "height": 314
        },
        "outputId": "4daaa0e8-cf8c-4098-e91d-7bb01b67047e"
      },
      "source": [
        "fraud_age = pd.pivot_table(data=data,index=\"age\",columns=\"fraud\",values =\"index\",aggfunc=\"count\",fill_value=0)\n",
        "fraud_age=fraud_age.sort_values(0, ascending=False)\n",
        "fraud_age"
      ],
      "execution_count": null,
      "outputs": [
        {
          "output_type": "execute_result",
          "data": {
            "text/html": [
              "<div>\n",
              "<style scoped>\n",
              "    .dataframe tbody tr th:only-of-type {\n",
              "        vertical-align: middle;\n",
              "    }\n",
              "\n",
              "    .dataframe tbody tr th {\n",
              "        vertical-align: top;\n",
              "    }\n",
              "\n",
              "    .dataframe thead th {\n",
              "        text-align: right;\n",
              "    }\n",
              "</style>\n",
              "<table border=\"1\" class=\"dataframe\">\n",
              "  <thead>\n",
              "    <tr style=\"text-align: right;\">\n",
              "      <th>fraud</th>\n",
              "      <th>0</th>\n",
              "      <th>1</th>\n",
              "    </tr>\n",
              "    <tr>\n",
              "      <th>age</th>\n",
              "      <th></th>\n",
              "      <th></th>\n",
              "    </tr>\n",
              "  </thead>\n",
              "  <tbody>\n",
              "    <tr>\n",
              "      <th>26-35 year</th>\n",
              "      <td>184966</td>\n",
              "      <td>2344</td>\n",
              "    </tr>\n",
              "    <tr>\n",
              "      <th>36-45 year</th>\n",
              "      <td>145376</td>\n",
              "      <td>1755</td>\n",
              "    </tr>\n",
              "    <tr>\n",
              "      <th>46-55 year</th>\n",
              "      <td>107615</td>\n",
              "      <td>1410</td>\n",
              "    </tr>\n",
              "    <tr>\n",
              "      <th>56-65 year</th>\n",
              "      <td>61956</td>\n",
              "      <td>686</td>\n",
              "    </tr>\n",
              "    <tr>\n",
              "      <th>19-25 year</th>\n",
              "      <td>57442</td>\n",
              "      <td>689</td>\n",
              "    </tr>\n",
              "    <tr>\n",
              "      <th>&gt;65 year</th>\n",
              "      <td>26513</td>\n",
              "      <td>261</td>\n",
              "    </tr>\n",
              "    <tr>\n",
              "      <th>&lt;=18 year</th>\n",
              "      <td>2404</td>\n",
              "      <td>48</td>\n",
              "    </tr>\n",
              "    <tr>\n",
              "      <th>unknown</th>\n",
              "      <td>1171</td>\n",
              "      <td>7</td>\n",
              "    </tr>\n",
              "  </tbody>\n",
              "</table>\n",
              "</div>"
            ],
            "text/plain": [
              "fraud            0     1\n",
              "age                     \n",
              "26-35 year  184966  2344\n",
              "36-45 year  145376  1755\n",
              "46-55 year  107615  1410\n",
              "56-65 year   61956   686\n",
              "19-25 year   57442   689\n",
              ">65 year     26513   261\n",
              "<=18 year     2404    48\n",
              "unknown       1171     7"
            ]
          },
          "metadata": {
            "tags": []
          },
          "execution_count": 172
        }
      ]
    },
    {
      "cell_type": "code",
      "metadata": {
        "id": "Ha5woizTZANc",
        "colab": {
          "base_uri": "https://localhost:8080/"
        },
        "outputId": "472cb12d-c191-4a28-cc38-28d89ffbd71b"
      },
      "source": [
        "# Apply Test\n",
        "stat, p, dof, expected = chi2_contingency(fraud_amount.T.values)\n",
        "print(\"p-values:\",p)\n",
        "if p < 0.05:\n",
        " print(\"Hypothesis Rejected\")\n",
        "else:\n",
        " print(\"Hypothesis Accepted\")"
      ],
      "execution_count": null,
      "outputs": [
        {
          "output_type": "stream",
          "text": [
            "p-values: 0.0\n",
            "Hypothesis Rejected\n"
          ],
          "name": "stdout"
        }
      ]
    },
    {
      "cell_type": "code",
      "metadata": {
        "id": "pxQh4m5UT_-B",
        "colab": {
          "base_uri": "https://localhost:8080/",
          "height": 166
        },
        "outputId": "d4465a5a-d38f-43d6-f86c-136c9c1894ac"
      },
      "source": [
        "cordata = data.corr(method=\"pearson\")\n",
        "cordata"
      ],
      "execution_count": null,
      "outputs": [
        {
          "output_type": "execute_result",
          "data": {
            "text/html": [
              "<div>\n",
              "<style scoped>\n",
              "    .dataframe tbody tr th:only-of-type {\n",
              "        vertical-align: middle;\n",
              "    }\n",
              "\n",
              "    .dataframe tbody tr th {\n",
              "        vertical-align: top;\n",
              "    }\n",
              "\n",
              "    .dataframe thead th {\n",
              "        text-align: right;\n",
              "    }\n",
              "</style>\n",
              "<table border=\"1\" class=\"dataframe\">\n",
              "  <thead>\n",
              "    <tr style=\"text-align: right;\">\n",
              "      <th></th>\n",
              "      <th>step</th>\n",
              "      <th>amount</th>\n",
              "      <th>fraud</th>\n",
              "      <th>index</th>\n",
              "    </tr>\n",
              "  </thead>\n",
              "  <tbody>\n",
              "    <tr>\n",
              "      <th>step</th>\n",
              "      <td>1.000000</td>\n",
              "      <td>-0.007961</td>\n",
              "      <td>-0.011898</td>\n",
              "      <td>0.998973</td>\n",
              "    </tr>\n",
              "    <tr>\n",
              "      <th>amount</th>\n",
              "      <td>-0.007961</td>\n",
              "      <td>1.000000</td>\n",
              "      <td>0.489967</td>\n",
              "      <td>-0.007817</td>\n",
              "    </tr>\n",
              "    <tr>\n",
              "      <th>fraud</th>\n",
              "      <td>-0.011898</td>\n",
              "      <td>0.489967</td>\n",
              "      <td>1.000000</td>\n",
              "      <td>-0.011703</td>\n",
              "    </tr>\n",
              "    <tr>\n",
              "      <th>index</th>\n",
              "      <td>0.998973</td>\n",
              "      <td>-0.007817</td>\n",
              "      <td>-0.011703</td>\n",
              "      <td>1.000000</td>\n",
              "    </tr>\n",
              "  </tbody>\n",
              "</table>\n",
              "</div>"
            ],
            "text/plain": [
              "            step    amount     fraud     index\n",
              "step    1.000000 -0.007961 -0.011898  0.998973\n",
              "amount -0.007961  1.000000  0.489967 -0.007817\n",
              "fraud  -0.011898  0.489967  1.000000 -0.011703\n",
              "index   0.998973 -0.007817 -0.011703  1.000000"
            ]
          },
          "metadata": {
            "tags": []
          },
          "execution_count": 174
        }
      ]
    },
    {
      "cell_type": "code",
      "metadata": {
        "id": "nUg5VVTYdTHl",
        "colab": {
          "base_uri": "https://localhost:8080/",
          "height": 504
        },
        "outputId": "35e6e8bd-3e43-49ea-87ef-eb7414e15524"
      },
      "source": [
        "plt.figure(figsize=(12,8))\n",
        "sns.heatmap(cordata, annot=True, cmap=\"YlGnBu\")"
      ],
      "execution_count": null,
      "outputs": [
        {
          "output_type": "execute_result",
          "data": {
            "text/plain": [
              "<matplotlib.axes._subplots.AxesSubplot at 0x7f84ac7fe790>"
            ]
          },
          "metadata": {
            "tags": []
          },
          "execution_count": 175
        },
        {
          "output_type": "display_data",
          "data": {
            "image/png": "[encoded data removed]",
            "text/plain": [
              "<Figure size 864x576 with 2 Axes>"
            ]
          },
          "metadata": {
            "tags": [],
            "needs_background": "light"
          }
        }
      ]
    },
    {
      "cell_type": "code",
      "metadata": {
        "id": "_Qj1676u1M2w",
        "colab": {
          "base_uri": "https://localhost:8080/",
          "height": 496
        },
        "outputId": "1f220a9d-b1d6-4eaf-f08f-a58b7b6d3135"
      },
      "source": [
        "graph=fraud_gender.plot(kind='barh', width=0.9)\n",
        "fig = graph.get_figure()\n",
        "# Change the plot dimensions (width, height)\n",
        "fig.set_size_inches(14, 8)"
      ],
      "execution_count": null,
      "outputs": [
        {
          "output_type": "display_data",
          "data": {
            "image/png": "[encoded data removed]",
            "text/plain": [
              "<Figure size 1008x576 with 1 Axes>"
            ]
          },
          "metadata": {
            "tags": [],
            "needs_background": "light"
          }
        }
      ]
    },
    {
      "cell_type": "code",
      "metadata": {
        "colab": {
          "base_uri": "https://localhost:8080/",
          "height": 343
        },
        "id": "pL2RlfwTe6iu",
        "outputId": "24cd11ea-b811-48ff-e7c6-adb2e5cfe6be"
      },
      "source": [
        "fraud_amount = pd.pivot_table(data=data,index=\"age\",columns=\"fraud\",values =\"amount\",aggfunc=\"count\", margins=True)\n",
        "fraud_amount=fraud_amount.sort_values(0, ascending=False)\n",
        "fraud_amount"
      ],
      "execution_count": null,
      "outputs": [
        {
          "output_type": "execute_result",
          "data": {
            "text/html": [
              "<div>\n",
              "<style scoped>\n",
              "    .dataframe tbody tr th:only-of-type {\n",
              "        vertical-align: middle;\n",
              "    }\n",
              "\n",
              "    .dataframe tbody tr th {\n",
              "        vertical-align: top;\n",
              "    }\n",
              "\n",
              "    .dataframe thead th {\n",
              "        text-align: right;\n",
              "    }\n",
              "</style>\n",
              "<table border=\"1\" class=\"dataframe\">\n",
              "  <thead>\n",
              "    <tr style=\"text-align: right;\">\n",
              "      <th>fraud</th>\n",
              "      <th>0</th>\n",
              "      <th>1</th>\n",
              "      <th>All</th>\n",
              "    </tr>\n",
              "    <tr>\n",
              "      <th>age</th>\n",
              "      <th></th>\n",
              "      <th></th>\n",
              "      <th></th>\n",
              "    </tr>\n",
              "  </thead>\n",
              "  <tbody>\n",
              "    <tr>\n",
              "      <th>All</th>\n",
              "      <td>587443</td>\n",
              "      <td>7200</td>\n",
              "      <td>594643</td>\n",
              "    </tr>\n",
              "    <tr>\n",
              "      <th>26-35 year</th>\n",
              "      <td>184966</td>\n",
              "      <td>2344</td>\n",
              "      <td>187310</td>\n",
              "    </tr>\n",
              "    <tr>\n",
              "      <th>36-45 year</th>\n",
              "      <td>145376</td>\n",
              "      <td>1755</td>\n",
              "      <td>147131</td>\n",
              "    </tr>\n",
              "    <tr>\n",
              "      <th>46-55 year</th>\n",
              "      <td>107615</td>\n",
              "      <td>1410</td>\n",
              "      <td>109025</td>\n",
              "    </tr>\n",
              "    <tr>\n",
              "      <th>56-65 year</th>\n",
              "      <td>61956</td>\n",
              "      <td>686</td>\n",
              "      <td>62642</td>\n",
              "    </tr>\n",
              "    <tr>\n",
              "      <th>19-25 year</th>\n",
              "      <td>57442</td>\n",
              "      <td>689</td>\n",
              "      <td>58131</td>\n",
              "    </tr>\n",
              "    <tr>\n",
              "      <th>&gt;65 year</th>\n",
              "      <td>26513</td>\n",
              "      <td>261</td>\n",
              "      <td>26774</td>\n",
              "    </tr>\n",
              "    <tr>\n",
              "      <th>&lt;=18 year</th>\n",
              "      <td>2404</td>\n",
              "      <td>48</td>\n",
              "      <td>2452</td>\n",
              "    </tr>\n",
              "    <tr>\n",
              "      <th>unknown</th>\n",
              "      <td>1171</td>\n",
              "      <td>7</td>\n",
              "      <td>1178</td>\n",
              "    </tr>\n",
              "  </tbody>\n",
              "</table>\n",
              "</div>"
            ],
            "text/plain": [
              "fraud            0     1     All\n",
              "age                             \n",
              "All         587443  7200  594643\n",
              "26-35 year  184966  2344  187310\n",
              "36-45 year  145376  1755  147131\n",
              "46-55 year  107615  1410  109025\n",
              "56-65 year   61956   686   62642\n",
              "19-25 year   57442   689   58131\n",
              ">65 year     26513   261   26774\n",
              "<=18 year     2404    48    2452\n",
              "unknown       1171     7    1178"
            ]
          },
          "metadata": {
            "tags": []
          },
          "execution_count": 178
        }
      ]
    },
    {
      "cell_type": "code",
      "metadata": {
        "colab": {
          "base_uri": "https://localhost:8080/",
          "height": 571
        },
        "id": "Ozv7IIwdBGvr",
        "outputId": "762fdb34-e8a8-48e3-824f-f565ba687bc1"
      },
      "source": [
        "\n",
        "fig = plt.figure(figsize =(15, 8))\n",
        "sns.lineplot(data=data,x=data[\"step\"],y= data[\"amount\"])\n",
        "fig.suptitle('Daily Trend of Amount per Step')"
      ],
      "execution_count": null,
      "outputs": [
        {
          "output_type": "execute_result",
          "data": {
            "text/plain": [
              "Text(0.5, 0.98, 'Daily Trend of Amount per Step')"
            ]
          },
          "metadata": {
            "tags": []
          },
          "execution_count": 179
        },
        {
          "output_type": "display_data",
          "data": {
            "image/png": "[encoded data removed]",
            "text/plain": [
              "<Figure size 1080x576 with 1 Axes>"
            ]
          },
          "metadata": {
            "tags": [],
            "needs_background": "light"
          }
        }
      ]
    },
    {
      "cell_type": "code",
      "metadata": {
        "colab": {
          "base_uri": "https://localhost:8080/",
          "height": 431
        },
        "id": "NzyeGx5q_5HU",
        "outputId": "59348696-e0a2-4417-af04-63edca4e6708"
      },
      "source": [
        "#Daily Trend By Category\n",
        "daily_trend_by_category = pd.pivot_table(data=data[data['fraud']==1],index=\"step\",columns=\"category\",values =\"amount\",aggfunc='sum')\n",
        "daily_trend_by_category"
      ],
      "execution_count": null,
      "outputs": [
        {
          "output_type": "execute_result",
          "data": {
            "text/html": [
              "<div>\n",
              "<style scoped>\n",
              "    .dataframe tbody tr th:only-of-type {\n",
              "        vertical-align: middle;\n",
              "    }\n",
              "\n",
              "    .dataframe tbody tr th {\n",
              "        vertical-align: top;\n",
              "    }\n",
              "\n",
              "    .dataframe thead th {\n",
              "        text-align: right;\n",
              "    }\n",
              "</style>\n",
              "<table border=\"1\" class=\"dataframe\">\n",
              "  <thead>\n",
              "    <tr style=\"text-align: right;\">\n",
              "      <th>category</th>\n",
              "      <th>domestic</th>\n",
              "      <th>restauration</th>\n",
              "      <th>wellnessandbeauty</th>\n",
              "    </tr>\n",
              "    <tr>\n",
              "      <th>step</th>\n",
              "      <th></th>\n",
              "      <th></th>\n",
              "      <th></th>\n",
              "    </tr>\n",
              "  </thead>\n",
              "  <tbody>\n",
              "    <tr>\n",
              "      <th>0</th>\n",
              "      <td>4493.06</td>\n",
              "      <td>769.55</td>\n",
              "      <td>7342.32</td>\n",
              "    </tr>\n",
              "    <tr>\n",
              "      <th>1</th>\n",
              "      <td>8824.10</td>\n",
              "      <td>1057.89</td>\n",
              "      <td>16187.15</td>\n",
              "    </tr>\n",
              "    <tr>\n",
              "      <th>2</th>\n",
              "      <td>4993.49</td>\n",
              "      <td>1468.03</td>\n",
              "      <td>17692.33</td>\n",
              "    </tr>\n",
              "    <tr>\n",
              "      <th>3</th>\n",
              "      <td>3663.07</td>\n",
              "      <td>1574.67</td>\n",
              "      <td>21514.37</td>\n",
              "    </tr>\n",
              "    <tr>\n",
              "      <th>4</th>\n",
              "      <td>6419.67</td>\n",
              "      <td>617.60</td>\n",
              "      <td>12907.09</td>\n",
              "    </tr>\n",
              "    <tr>\n",
              "      <th>...</th>\n",
              "      <td>...</td>\n",
              "      <td>...</td>\n",
              "      <td>...</td>\n",
              "    </tr>\n",
              "    <tr>\n",
              "      <th>175</th>\n",
              "      <td>4207.98</td>\n",
              "      <td>1172.05</td>\n",
              "      <td>6449.29</td>\n",
              "    </tr>\n",
              "    <tr>\n",
              "      <th>176</th>\n",
              "      <td>2055.61</td>\n",
              "      <td>996.14</td>\n",
              "      <td>12015.94</td>\n",
              "    </tr>\n",
              "    <tr>\n",
              "      <th>177</th>\n",
              "      <td>1451.78</td>\n",
              "      <td>2044.30</td>\n",
              "      <td>10338.41</td>\n",
              "    </tr>\n",
              "    <tr>\n",
              "      <th>178</th>\n",
              "      <td>2327.02</td>\n",
              "      <td>4288.61</td>\n",
              "      <td>18412.20</td>\n",
              "    </tr>\n",
              "    <tr>\n",
              "      <th>179</th>\n",
              "      <td>6781.32</td>\n",
              "      <td>1807.86</td>\n",
              "      <td>11252.16</td>\n",
              "    </tr>\n",
              "  </tbody>\n",
              "</table>\n",
              "<p>180 rows × 3 columns</p>\n",
              "</div>"
            ],
            "text/plain": [
              "category  domestic  restauration  wellnessandbeauty\n",
              "step                                               \n",
              "0          4493.06        769.55            7342.32\n",
              "1          8824.10       1057.89           16187.15\n",
              "2          4993.49       1468.03           17692.33\n",
              "3          3663.07       1574.67           21514.37\n",
              "4          6419.67        617.60           12907.09\n",
              "...            ...           ...                ...\n",
              "175        4207.98       1172.05            6449.29\n",
              "176        2055.61        996.14           12015.94\n",
              "177        1451.78       2044.30           10338.41\n",
              "178        2327.02       4288.61           18412.20\n",
              "179        6781.32       1807.86           11252.16\n",
              "\n",
              "[180 rows x 3 columns]"
            ]
          },
          "metadata": {
            "tags": []
          },
          "execution_count": 263
        }
      ]
    },
    {
      "cell_type": "code",
      "metadata": {
        "colab": {
          "base_uri": "https://localhost:8080/",
          "height": 514
        },
        "id": "j5bo2svb7x7S",
        "outputId": "67aa31f8-d523-4b9c-fc03-88488b8e1b2a"
      },
      "source": [
        "daily_trend_by_category.plot(figsize=(10,8))"
      ],
      "execution_count": null,
      "outputs": [
        {
          "output_type": "execute_result",
          "data": {
            "text/plain": [
              "<matplotlib.axes._subplots.AxesSubplot at 0x7f84ac95b0d0>"
            ]
          },
          "metadata": {
            "tags": []
          },
          "execution_count": 182
        },
        {
          "output_type": "display_data",
          "data": {
            "image/png": "[encoded data removed]",
            "text/plain": [
              "<Figure size 720x576 with 1 Axes>"
            ]
          },
          "metadata": {
            "tags": [],
            "needs_background": "light"
          }
        }
      ]
    },
    {
      "cell_type": "code",
      "metadata": {
        "id": "25yonSCo4v7A"
      },
      "source": [
        "#sns.lineplot(x=daily_trend_by_category.index,y=['domestic','restauration','transportation','wellnessandbeauty'])"
      ],
      "execution_count": null,
      "outputs": []
    },
    {
      "cell_type": "code",
      "metadata": {
        "colab": {
          "base_uri": "https://localhost:8080/",
          "height": 431
        },
        "id": "OHg2aKk8-EDB",
        "outputId": "27043ec0-8d92-4833-8de6-83c21723701b"
      },
      "source": [
        "#Daily Trend By Category\n",
        "daily_trend_by_gender = pd.pivot_table(data=data[data['fraud']==1],index=\"step\",columns=\"gender\",values =\"amount\",aggfunc='sum')\n",
        "#fraud_step=fraud_step.sort_values(0, ascending=False)\n",
        "daily_trend_by_gender"
      ],
      "execution_count": null,
      "outputs": [
        {
          "output_type": "execute_result",
          "data": {
            "text/html": [
              "<div>\n",
              "<style scoped>\n",
              "    .dataframe tbody tr th:only-of-type {\n",
              "        vertical-align: middle;\n",
              "    }\n",
              "\n",
              "    .dataframe tbody tr th {\n",
              "        vertical-align: top;\n",
              "    }\n",
              "\n",
              "    .dataframe thead th {\n",
              "        text-align: right;\n",
              "    }\n",
              "</style>\n",
              "<table border=\"1\" class=\"dataframe\">\n",
              "  <thead>\n",
              "    <tr style=\"text-align: right;\">\n",
              "      <th>gender</th>\n",
              "      <th>Enterprise</th>\n",
              "      <th>Female</th>\n",
              "      <th>Male</th>\n",
              "    </tr>\n",
              "    <tr>\n",
              "      <th>step</th>\n",
              "      <th></th>\n",
              "      <th></th>\n",
              "      <th></th>\n",
              "    </tr>\n",
              "  </thead>\n",
              "  <tbody>\n",
              "    <tr>\n",
              "      <th>0</th>\n",
              "      <td>NaN</td>\n",
              "      <td>10091.04</td>\n",
              "      <td>2513.89</td>\n",
              "    </tr>\n",
              "    <tr>\n",
              "      <th>1</th>\n",
              "      <td>NaN</td>\n",
              "      <td>20671.16</td>\n",
              "      <td>5397.98</td>\n",
              "    </tr>\n",
              "    <tr>\n",
              "      <th>2</th>\n",
              "      <td>NaN</td>\n",
              "      <td>21149.47</td>\n",
              "      <td>3004.38</td>\n",
              "    </tr>\n",
              "    <tr>\n",
              "      <th>3</th>\n",
              "      <td>NaN</td>\n",
              "      <td>14636.64</td>\n",
              "      <td>12115.47</td>\n",
              "    </tr>\n",
              "    <tr>\n",
              "      <th>4</th>\n",
              "      <td>NaN</td>\n",
              "      <td>12306.91</td>\n",
              "      <td>7637.45</td>\n",
              "    </tr>\n",
              "    <tr>\n",
              "      <th>...</th>\n",
              "      <td>...</td>\n",
              "      <td>...</td>\n",
              "      <td>...</td>\n",
              "    </tr>\n",
              "    <tr>\n",
              "      <th>175</th>\n",
              "      <td>NaN</td>\n",
              "      <td>8100.90</td>\n",
              "      <td>3728.42</td>\n",
              "    </tr>\n",
              "    <tr>\n",
              "      <th>176</th>\n",
              "      <td>NaN</td>\n",
              "      <td>6132.20</td>\n",
              "      <td>8935.49</td>\n",
              "    </tr>\n",
              "    <tr>\n",
              "      <th>177</th>\n",
              "      <td>NaN</td>\n",
              "      <td>8794.27</td>\n",
              "      <td>5040.22</td>\n",
              "    </tr>\n",
              "    <tr>\n",
              "      <th>178</th>\n",
              "      <td>NaN</td>\n",
              "      <td>17981.30</td>\n",
              "      <td>7046.53</td>\n",
              "    </tr>\n",
              "    <tr>\n",
              "      <th>179</th>\n",
              "      <td>NaN</td>\n",
              "      <td>14519.89</td>\n",
              "      <td>5321.45</td>\n",
              "    </tr>\n",
              "  </tbody>\n",
              "</table>\n",
              "<p>180 rows × 3 columns</p>\n",
              "</div>"
            ],
            "text/plain": [
              "gender  Enterprise    Female      Male\n",
              "step                                  \n",
              "0              NaN  10091.04   2513.89\n",
              "1              NaN  20671.16   5397.98\n",
              "2              NaN  21149.47   3004.38\n",
              "3              NaN  14636.64  12115.47\n",
              "4              NaN  12306.91   7637.45\n",
              "...            ...       ...       ...\n",
              "175            NaN   8100.90   3728.42\n",
              "176            NaN   6132.20   8935.49\n",
              "177            NaN   8794.27   5040.22\n",
              "178            NaN  17981.30   7046.53\n",
              "179            NaN  14519.89   5321.45\n",
              "\n",
              "[180 rows x 3 columns]"
            ]
          },
          "metadata": {
            "tags": []
          },
          "execution_count": 184
        }
      ]
    },
    {
      "cell_type": "code",
      "metadata": {
        "colab": {
          "base_uri": "https://localhost:8080/",
          "height": 514
        },
        "id": "Ew9lemZn-VKw",
        "outputId": "36c8fad0-cc17-4416-a230-6f3cc057711b"
      },
      "source": [
        "daily_trend_by_gender.plot(figsize=(10,8))"
      ],
      "execution_count": null,
      "outputs": [
        {
          "output_type": "execute_result",
          "data": {
            "text/plain": [
              "<matplotlib.axes._subplots.AxesSubplot at 0x7f84ac9e80d0>"
            ]
          },
          "metadata": {
            "tags": []
          },
          "execution_count": 185
        },
        {
          "output_type": "display_data",
          "data": {
            "image/png": "[encoded data removed]",
            "text/plain": [
              "<Figure size 720x576 with 1 Axes>"
            ]
          },
          "metadata": {
            "tags": [],
            "needs_background": "light"
          }
        }
      ]
    },
    {
      "cell_type": "code",
      "metadata": {
        "colab": {
          "base_uri": "https://localhost:8080/",
          "height": 431
        },
        "id": "WWckRjFm2tsQ",
        "outputId": "73ddb812-2f12-40b5-e40c-bc038fb3ef60"
      },
      "source": [
        "#Daily Trend By Category\n",
        "daily_trend_by_gender2 = pd.pivot_table(data=data[data['fraud']==1],index=[\"step\",\"fraud\"],columns=\"gender\",values =\"amount\",aggfunc='sum', fill_value=0)\n",
        "#fraud_step=fraud_step.sort_values(0, ascending=False)\n",
        "daily_trend_by_gender2"
      ],
      "execution_count": null,
      "outputs": [
        {
          "output_type": "execute_result",
          "data": {
            "text/html": [
              "<div>\n",
              "<style scoped>\n",
              "    .dataframe tbody tr th:only-of-type {\n",
              "        vertical-align: middle;\n",
              "    }\n",
              "\n",
              "    .dataframe tbody tr th {\n",
              "        vertical-align: top;\n",
              "    }\n",
              "\n",
              "    .dataframe thead th {\n",
              "        text-align: right;\n",
              "    }\n",
              "</style>\n",
              "<table border=\"1\" class=\"dataframe\">\n",
              "  <thead>\n",
              "    <tr style=\"text-align: right;\">\n",
              "      <th></th>\n",
              "      <th>gender</th>\n",
              "      <th>Enterprise</th>\n",
              "      <th>Female</th>\n",
              "      <th>Male</th>\n",
              "    </tr>\n",
              "    <tr>\n",
              "      <th>step</th>\n",
              "      <th>fraud</th>\n",
              "      <th></th>\n",
              "      <th></th>\n",
              "      <th></th>\n",
              "    </tr>\n",
              "  </thead>\n",
              "  <tbody>\n",
              "    <tr>\n",
              "      <th>0</th>\n",
              "      <th>1</th>\n",
              "      <td>0.0</td>\n",
              "      <td>10091.04</td>\n",
              "      <td>2513.89</td>\n",
              "    </tr>\n",
              "    <tr>\n",
              "      <th>1</th>\n",
              "      <th>1</th>\n",
              "      <td>0.0</td>\n",
              "      <td>20671.16</td>\n",
              "      <td>5397.98</td>\n",
              "    </tr>\n",
              "    <tr>\n",
              "      <th>2</th>\n",
              "      <th>1</th>\n",
              "      <td>0.0</td>\n",
              "      <td>21149.47</td>\n",
              "      <td>3004.38</td>\n",
              "    </tr>\n",
              "    <tr>\n",
              "      <th>3</th>\n",
              "      <th>1</th>\n",
              "      <td>0.0</td>\n",
              "      <td>14636.64</td>\n",
              "      <td>12115.47</td>\n",
              "    </tr>\n",
              "    <tr>\n",
              "      <th>4</th>\n",
              "      <th>1</th>\n",
              "      <td>0.0</td>\n",
              "      <td>12306.91</td>\n",
              "      <td>7637.45</td>\n",
              "    </tr>\n",
              "    <tr>\n",
              "      <th>...</th>\n",
              "      <th>...</th>\n",
              "      <td>...</td>\n",
              "      <td>...</td>\n",
              "      <td>...</td>\n",
              "    </tr>\n",
              "    <tr>\n",
              "      <th>175</th>\n",
              "      <th>1</th>\n",
              "      <td>0.0</td>\n",
              "      <td>8100.90</td>\n",
              "      <td>3728.42</td>\n",
              "    </tr>\n",
              "    <tr>\n",
              "      <th>176</th>\n",
              "      <th>1</th>\n",
              "      <td>0.0</td>\n",
              "      <td>6132.20</td>\n",
              "      <td>8935.49</td>\n",
              "    </tr>\n",
              "    <tr>\n",
              "      <th>177</th>\n",
              "      <th>1</th>\n",
              "      <td>0.0</td>\n",
              "      <td>8794.27</td>\n",
              "      <td>5040.22</td>\n",
              "    </tr>\n",
              "    <tr>\n",
              "      <th>178</th>\n",
              "      <th>1</th>\n",
              "      <td>0.0</td>\n",
              "      <td>17981.30</td>\n",
              "      <td>7046.53</td>\n",
              "    </tr>\n",
              "    <tr>\n",
              "      <th>179</th>\n",
              "      <th>1</th>\n",
              "      <td>0.0</td>\n",
              "      <td>14519.89</td>\n",
              "      <td>5321.45</td>\n",
              "    </tr>\n",
              "  </tbody>\n",
              "</table>\n",
              "<p>180 rows × 3 columns</p>\n",
              "</div>"
            ],
            "text/plain": [
              "gender      Enterprise    Female      Male\n",
              "step fraud                                \n",
              "0    1             0.0  10091.04   2513.89\n",
              "1    1             0.0  20671.16   5397.98\n",
              "2    1             0.0  21149.47   3004.38\n",
              "3    1             0.0  14636.64  12115.47\n",
              "4    1             0.0  12306.91   7637.45\n",
              "...                ...       ...       ...\n",
              "175  1             0.0   8100.90   3728.42\n",
              "176  1             0.0   6132.20   8935.49\n",
              "177  1             0.0   8794.27   5040.22\n",
              "178  1             0.0  17981.30   7046.53\n",
              "179  1             0.0  14519.89   5321.45\n",
              "\n",
              "[180 rows x 3 columns]"
            ]
          },
          "metadata": {
            "tags": []
          },
          "execution_count": 186
        }
      ]
    },
    {
      "cell_type": "code",
      "metadata": {
        "colab": {
          "base_uri": "https://localhost:8080/",
          "height": 514
        },
        "id": "Sbyxjjn3BUvD",
        "outputId": "b2bbb476-d329-4f51-f68f-72c2728cc4b3"
      },
      "source": [
        "daily_trend_by_gender2.plot(figsize=(10,8))"
      ],
      "execution_count": null,
      "outputs": [
        {
          "output_type": "execute_result",
          "data": {
            "text/plain": [
              "<matplotlib.axes._subplots.AxesSubplot at 0x7f84aca85f10>"
            ]
          },
          "metadata": {
            "tags": []
          },
          "execution_count": 187
        },
        {
          "output_type": "display_data",
          "data": {
            "image/png": "[encoded data removed]",
            "text/plain": [
              "<Figure size 720x576 with 1 Axes>"
            ]
          },
          "metadata": {
            "tags": [],
            "needs_background": "light"
          }
        }
      ]
    },
    {
      "cell_type": "markdown",
      "metadata": {
        "id": "x5c4JiS5AD4N"
      },
      "source": [
        "### 3-. Calculation of daily trends of transactions for different categories of variables"
      ]
    },
    {
      "cell_type": "code",
      "metadata": {
        "id": "XxUxo0xxAGy5",
        "colab": {
          "base_uri": "https://localhost:8080/",
          "height": 195
        },
        "outputId": "8b6d48a2-e80a-4476-bc12-2fed87a0ad45"
      },
      "source": [
        "contigency=pd.crosstab(data['gender'],data['fraud'], normalize=True)\n",
        "contigency"
      ],
      "execution_count": null,
      "outputs": [
        {
          "output_type": "execute_result",
          "data": {
            "text/html": [
              "<div>\n",
              "<style scoped>\n",
              "    .dataframe tbody tr th:only-of-type {\n",
              "        vertical-align: middle;\n",
              "    }\n",
              "\n",
              "    .dataframe tbody tr th {\n",
              "        vertical-align: top;\n",
              "    }\n",
              "\n",
              "    .dataframe thead th {\n",
              "        text-align: right;\n",
              "    }\n",
              "</style>\n",
              "<table border=\"1\" class=\"dataframe\">\n",
              "  <thead>\n",
              "    <tr style=\"text-align: right;\">\n",
              "      <th>fraud</th>\n",
              "      <th>0</th>\n",
              "      <th>1</th>\n",
              "    </tr>\n",
              "    <tr>\n",
              "      <th>gender</th>\n",
              "      <th></th>\n",
              "      <th></th>\n",
              "    </tr>\n",
              "  </thead>\n",
              "  <tbody>\n",
              "    <tr>\n",
              "      <th>Enterprise</th>\n",
              "      <td>0.001969</td>\n",
              "      <td>0.000012</td>\n",
              "    </tr>\n",
              "    <tr>\n",
              "      <th>Female</th>\n",
              "      <td>0.537813</td>\n",
              "      <td>0.008001</td>\n",
              "    </tr>\n",
              "    <tr>\n",
              "      <th>Gender_Unknown</th>\n",
              "      <td>0.000866</td>\n",
              "      <td>0.000000</td>\n",
              "    </tr>\n",
              "    <tr>\n",
              "      <th>Male</th>\n",
              "      <td>0.447243</td>\n",
              "      <td>0.004095</td>\n",
              "    </tr>\n",
              "  </tbody>\n",
              "</table>\n",
              "</div>"
            ],
            "text/plain": [
              "fraud                  0         1\n",
              "gender                            \n",
              "Enterprise      0.001969  0.000012\n",
              "Female          0.537813  0.008001\n",
              "Gender_Unknown  0.000866  0.000000\n",
              "Male            0.447243  0.004095"
            ]
          },
          "metadata": {
            "tags": []
          },
          "execution_count": 190
        }
      ]
    },
    {
      "cell_type": "code",
      "metadata": {
        "id": "lLgKBDFkb6pp",
        "colab": {
          "base_uri": "https://localhost:8080/"
        },
        "outputId": "e9563873-23f5-40a2-d989-36cb72560732"
      },
      "source": [
        "contigency.T.values"
      ],
      "execution_count": null,
      "outputs": [
        {
          "output_type": "execute_result",
          "data": {
            "text/plain": [
              "array([[1.96924878e-03, 5.37813444e-01, 8.66065858e-04, 4.47243136e-01],\n",
              "       [1.17717689e-05, 8.00143952e-03, 0.00000000e+00, 4.09489391e-03]])"
            ]
          },
          "metadata": {
            "tags": []
          },
          "execution_count": 191
        }
      ]
    },
    {
      "cell_type": "code",
      "metadata": {
        "id": "7c7rzArJb3wu",
        "colab": {
          "base_uri": "https://localhost:8080/"
        },
        "outputId": "02b88cd1-1bac-41c6-b570-13fce8d5d294"
      },
      "source": [
        "# Apply Test\n",
        "stat, p, dof, expected = chi2_contingency(fraud_amount.T.values)\n",
        "print(\"p-values:\",p)\n",
        "if p < 0.05:\n",
        " print(\"Hypothesis Rejected\")\n",
        "else:\n",
        " print(\"Hypothesis Accepted\")"
      ],
      "execution_count": null,
      "outputs": [
        {
          "output_type": "stream",
          "text": [
            "p-values: 0.00018740041886094232\n",
            "Hypothesis Rejected\n"
          ],
          "name": "stdout"
        }
      ]
    },
    {
      "cell_type": "code",
      "metadata": {
        "id": "PIKA3K_ecIY6",
        "colab": {
          "base_uri": "https://localhost:8080/",
          "height": 195
        },
        "outputId": "c7b44fd7-29b2-4e3c-8f3a-bb503835158a"
      },
      "source": [
        "contigency=pd.crosstab(data['category'],data['fraud'], normalize=True)\n",
        "contigency"
      ],
      "execution_count": null,
      "outputs": [
        {
          "output_type": "execute_result",
          "data": {
            "text/html": [
              "<div>\n",
              "<style scoped>\n",
              "    .dataframe tbody tr th:only-of-type {\n",
              "        vertical-align: middle;\n",
              "    }\n",
              "\n",
              "    .dataframe tbody tr th {\n",
              "        vertical-align: top;\n",
              "    }\n",
              "\n",
              "    .dataframe thead th {\n",
              "        text-align: right;\n",
              "    }\n",
              "</style>\n",
              "<table border=\"1\" class=\"dataframe\">\n",
              "  <thead>\n",
              "    <tr style=\"text-align: right;\">\n",
              "      <th>fraud</th>\n",
              "      <th>0</th>\n",
              "      <th>1</th>\n",
              "    </tr>\n",
              "    <tr>\n",
              "      <th>category</th>\n",
              "      <th></th>\n",
              "      <th></th>\n",
              "    </tr>\n",
              "  </thead>\n",
              "  <tbody>\n",
              "    <tr>\n",
              "      <th>domestic</th>\n",
              "      <td>0.071261</td>\n",
              "      <td>0.003360</td>\n",
              "    </tr>\n",
              "    <tr>\n",
              "      <th>restauration</th>\n",
              "      <td>0.015165</td>\n",
              "      <td>0.001507</td>\n",
              "    </tr>\n",
              "    <tr>\n",
              "      <th>transportation</th>\n",
              "      <td>0.849449</td>\n",
              "      <td>0.000000</td>\n",
              "    </tr>\n",
              "    <tr>\n",
              "      <th>wellnessandbeauty</th>\n",
              "      <td>0.052016</td>\n",
              "      <td>0.007241</td>\n",
              "    </tr>\n",
              "  </tbody>\n",
              "</table>\n",
              "</div>"
            ],
            "text/plain": [
              "fraud                     0         1\n",
              "category                             \n",
              "domestic           0.071261  0.003360\n",
              "restauration       0.015165  0.001507\n",
              "transportation     0.849449  0.000000\n",
              "wellnessandbeauty  0.052016  0.007241"
            ]
          },
          "metadata": {
            "tags": []
          },
          "execution_count": 193
        }
      ]
    },
    {
      "cell_type": "code",
      "metadata": {
        "id": "yodo5K5hcOVO",
        "colab": {
          "base_uri": "https://localhost:8080/"
        },
        "outputId": "311d7305-8444-4fdb-824b-6d850a626eda"
      },
      "source": [
        "contigency.T.values"
      ],
      "execution_count": null,
      "outputs": [
        {
          "output_type": "execute_result",
          "data": {
            "text/plain": [
              "array([[0.07126124, 0.0151654 , 0.84944917, 0.05201608],\n",
              "       [0.00336   , 0.00150679, 0.        , 0.00724132]])"
            ]
          },
          "metadata": {
            "tags": []
          },
          "execution_count": 194
        }
      ]
    },
    {
      "cell_type": "code",
      "metadata": {
        "id": "zVIL17fjcWE-",
        "colab": {
          "base_uri": "https://localhost:8080/"
        },
        "outputId": "24df6fa6-fcd3-45b3-b99f-a0ec39992b4f"
      },
      "source": [
        "# Apply Test\n",
        "stat, p, dof, expected = chi2_contingency(fraud_amount.T.values)\n",
        "print(\"p-values:\",p)\n",
        "if p < 0.05:\n",
        " print(\"Hypothesis Rejected\")\n",
        "else:\n",
        " print(\"Hypothesis Accepted\")"
      ],
      "execution_count": null,
      "outputs": [
        {
          "output_type": "stream",
          "text": [
            "p-values: 0.00018740041886094232\n",
            "Hypothesis Rejected\n"
          ],
          "name": "stdout"
        }
      ]
    },
    {
      "cell_type": "code",
      "metadata": {
        "id": "uRUNA7FRK8Su",
        "colab": {
          "base_uri": "https://localhost:8080/",
          "height": 314
        },
        "outputId": "3e7c6e94-685b-46cd-f2ed-a8d0ac1bf602"
      },
      "source": [
        "contigency2=pd.crosstab(data['age'],data['fraud'], normalize=True)\n",
        "contigency2"
      ],
      "execution_count": null,
      "outputs": [
        {
          "output_type": "execute_result",
          "data": {
            "text/html": [
              "<div>\n",
              "<style scoped>\n",
              "    .dataframe tbody tr th:only-of-type {\n",
              "        vertical-align: middle;\n",
              "    }\n",
              "\n",
              "    .dataframe tbody tr th {\n",
              "        vertical-align: top;\n",
              "    }\n",
              "\n",
              "    .dataframe thead th {\n",
              "        text-align: right;\n",
              "    }\n",
              "</style>\n",
              "<table border=\"1\" class=\"dataframe\">\n",
              "  <thead>\n",
              "    <tr style=\"text-align: right;\">\n",
              "      <th>fraud</th>\n",
              "      <th>0</th>\n",
              "      <th>1</th>\n",
              "    </tr>\n",
              "    <tr>\n",
              "      <th>age</th>\n",
              "      <th></th>\n",
              "      <th></th>\n",
              "    </tr>\n",
              "  </thead>\n",
              "  <tbody>\n",
              "    <tr>\n",
              "      <th>19-25 year</th>\n",
              "      <td>0.096599</td>\n",
              "      <td>0.001159</td>\n",
              "    </tr>\n",
              "    <tr>\n",
              "      <th>26-35 year</th>\n",
              "      <td>0.311054</td>\n",
              "      <td>0.003942</td>\n",
              "    </tr>\n",
              "    <tr>\n",
              "      <th>36-45 year</th>\n",
              "      <td>0.244476</td>\n",
              "      <td>0.002951</td>\n",
              "    </tr>\n",
              "    <tr>\n",
              "      <th>46-55 year</th>\n",
              "      <td>0.180974</td>\n",
              "      <td>0.002371</td>\n",
              "    </tr>\n",
              "    <tr>\n",
              "      <th>56-65 year</th>\n",
              "      <td>0.104190</td>\n",
              "      <td>0.001154</td>\n",
              "    </tr>\n",
              "    <tr>\n",
              "      <th>&lt;=18 year</th>\n",
              "      <td>0.004043</td>\n",
              "      <td>0.000081</td>\n",
              "    </tr>\n",
              "    <tr>\n",
              "      <th>&gt;65 year</th>\n",
              "      <td>0.044586</td>\n",
              "      <td>0.000439</td>\n",
              "    </tr>\n",
              "    <tr>\n",
              "      <th>unknown</th>\n",
              "      <td>0.001969</td>\n",
              "      <td>0.000012</td>\n",
              "    </tr>\n",
              "  </tbody>\n",
              "</table>\n",
              "</div>"
            ],
            "text/plain": [
              "fraud              0         1\n",
              "age                           \n",
              "19-25 year  0.096599  0.001159\n",
              "26-35 year  0.311054  0.003942\n",
              "36-45 year  0.244476  0.002951\n",
              "46-55 year  0.180974  0.002371\n",
              "56-65 year  0.104190  0.001154\n",
              "<=18 year   0.004043  0.000081\n",
              ">65 year    0.044586  0.000439\n",
              "unknown     0.001969  0.000012"
            ]
          },
          "metadata": {
            "tags": []
          },
          "execution_count": 196
        }
      ]
    },
    {
      "cell_type": "code",
      "metadata": {
        "id": "4tUw1Kdfclbo",
        "colab": {
          "base_uri": "https://localhost:8080/"
        },
        "outputId": "9cb5eca8-2777-4d83-f9eb-e77c07abcc5a"
      },
      "source": [
        "contigency2.T.values"
      ],
      "execution_count": null,
      "outputs": [
        {
          "output_type": "execute_result",
          "data": {
            "text/plain": [
              "array([[9.65991360e-02, 3.11053859e-01, 2.44476097e-01, 1.80974131e-01,\n",
              "        1.04190245e-01, 4.04276179e-03, 4.45864157e-02, 1.96924878e-03],\n",
              "       [1.15867840e-03, 3.94186091e-03, 2.95135064e-03, 2.37117060e-03,\n",
              "        1.15363336e-03, 8.07207013e-05, 4.38918813e-04, 1.17717689e-05]])"
            ]
          },
          "metadata": {
            "tags": []
          },
          "execution_count": 197
        }
      ]
    },
    {
      "cell_type": "code",
      "metadata": {
        "id": "yoyz5aSyctq8",
        "colab": {
          "base_uri": "https://localhost:8080/"
        },
        "outputId": "9ced3e37-6394-4445-bea6-fe7700ff3065"
      },
      "source": [
        "# Apply Test\n",
        "stat, p, dof, expected = chi2_contingency(contigency2.T.values)\n",
        "print(\"p-values:\",p)\n",
        "if p < 0.05:\n",
        " print(\"Hypothesis Rejected\")\n",
        "else:\n",
        " print(\"Hypothesis Accepted\")"
      ],
      "execution_count": null,
      "outputs": [
        {
          "output_type": "stream",
          "text": [
            "p-values: 1.0\n",
            "Hypothesis Accepted\n"
          ],
          "name": "stdout"
        }
      ]
    },
    {
      "cell_type": "code",
      "metadata": {
        "id": "Hd996pIuLE2P",
        "colab": {
          "base_uri": "https://localhost:8080/"
        },
        "outputId": "5c1dd997-4567-4e1f-87a5-46f248676201"
      },
      "source": [
        "# pvalue=0.05\n",
        "# H0 : gender and fraud are independant or no association between two variable\n",
        "# H1 : They are dependent or there is an association between the two variables\n",
        "c,p,dof, expected =chi2_contingency(contigency2)\n",
        "p"
      ],
      "execution_count": null,
      "outputs": [
        {
          "output_type": "execute_result",
          "data": {
            "text/plain": [
              "1.0"
            ]
          },
          "metadata": {
            "tags": []
          },
          "execution_count": 199
        }
      ]
    },
    {
      "cell_type": "code",
      "metadata": {
        "id": "Jq7uC39rLMOq"
      },
      "source": [
        "# p>0.05\n",
        "# on accpte Ho: thereis no distribution between these two variables"
      ],
      "execution_count": null,
      "outputs": []
    },
    {
      "cell_type": "code",
      "metadata": {
        "colab": {
          "base_uri": "https://localhost:8080/",
          "height": 106
        },
        "id": "9E5AWtnCguKd",
        "outputId": "c82f0154-5270-4105-9528-b38e1326ba00"
      },
      "source": [
        "data['fraud'].value_counts(normalize=True).to_frame()"
      ],
      "execution_count": null,
      "outputs": [
        {
          "output_type": "execute_result",
          "data": {
            "text/html": [
              "<div>\n",
              "<style scoped>\n",
              "    .dataframe tbody tr th:only-of-type {\n",
              "        vertical-align: middle;\n",
              "    }\n",
              "\n",
              "    .dataframe tbody tr th {\n",
              "        vertical-align: top;\n",
              "    }\n",
              "\n",
              "    .dataframe thead th {\n",
              "        text-align: right;\n",
              "    }\n",
              "</style>\n",
              "<table border=\"1\" class=\"dataframe\">\n",
              "  <thead>\n",
              "    <tr style=\"text-align: right;\">\n",
              "      <th></th>\n",
              "      <th>fraud</th>\n",
              "    </tr>\n",
              "  </thead>\n",
              "  <tbody>\n",
              "    <tr>\n",
              "      <th>0</th>\n",
              "      <td>0.987892</td>\n",
              "    </tr>\n",
              "    <tr>\n",
              "      <th>1</th>\n",
              "      <td>0.012108</td>\n",
              "    </tr>\n",
              "  </tbody>\n",
              "</table>\n",
              "</div>"
            ],
            "text/plain": [
              "      fraud\n",
              "0  0.987892\n",
              "1  0.012108"
            ]
          },
          "metadata": {
            "tags": []
          },
          "execution_count": 203
        }
      ]
    },
    {
      "cell_type": "code",
      "metadata": {
        "id": "-x8lLDI6g28P"
      },
      "source": [
        "total =data.groupby(by=[\"fraud\"]).index.mean().to_frame()\n",
        "total.columns = [\"% fraud\"]"
      ],
      "execution_count": null,
      "outputs": []
    },
    {
      "cell_type": "code",
      "metadata": {
        "colab": {
          "base_uri": "https://localhost:8080/",
          "height": 314
        },
        "id": "RP7N5ZhQiZB5",
        "outputId": "0d7815aa-4f57-4f2b-dce6-ef2e0bd33cd2"
      },
      "source": [
        "fraud_agee = pd.pivot_table(data=data,index=\"age\",columns=\"fraud\",values =\"index\",aggfunc=\"count\")/data.shape[0]\n",
        "fraud_agee = fraud_agee.sort_values(0, ascending=False)\n",
        "fraud_agee"
      ],
      "execution_count": null,
      "outputs": [
        {
          "output_type": "execute_result",
          "data": {
            "text/html": [
              "<div>\n",
              "<style scoped>\n",
              "    .dataframe tbody tr th:only-of-type {\n",
              "        vertical-align: middle;\n",
              "    }\n",
              "\n",
              "    .dataframe tbody tr th {\n",
              "        vertical-align: top;\n",
              "    }\n",
              "\n",
              "    .dataframe thead th {\n",
              "        text-align: right;\n",
              "    }\n",
              "</style>\n",
              "<table border=\"1\" class=\"dataframe\">\n",
              "  <thead>\n",
              "    <tr style=\"text-align: right;\">\n",
              "      <th>fraud</th>\n",
              "      <th>0</th>\n",
              "      <th>1</th>\n",
              "    </tr>\n",
              "    <tr>\n",
              "      <th>age</th>\n",
              "      <th></th>\n",
              "      <th></th>\n",
              "    </tr>\n",
              "  </thead>\n",
              "  <tbody>\n",
              "    <tr>\n",
              "      <th>26-35 year</th>\n",
              "      <td>0.311054</td>\n",
              "      <td>0.003942</td>\n",
              "    </tr>\n",
              "    <tr>\n",
              "      <th>36-45 year</th>\n",
              "      <td>0.244476</td>\n",
              "      <td>0.002951</td>\n",
              "    </tr>\n",
              "    <tr>\n",
              "      <th>46-55 year</th>\n",
              "      <td>0.180974</td>\n",
              "      <td>0.002371</td>\n",
              "    </tr>\n",
              "    <tr>\n",
              "      <th>56-65 year</th>\n",
              "      <td>0.104190</td>\n",
              "      <td>0.001154</td>\n",
              "    </tr>\n",
              "    <tr>\n",
              "      <th>19-25 year</th>\n",
              "      <td>0.096599</td>\n",
              "      <td>0.001159</td>\n",
              "    </tr>\n",
              "    <tr>\n",
              "      <th>&gt;65 year</th>\n",
              "      <td>0.044586</td>\n",
              "      <td>0.000439</td>\n",
              "    </tr>\n",
              "    <tr>\n",
              "      <th>&lt;=18 year</th>\n",
              "      <td>0.004043</td>\n",
              "      <td>0.000081</td>\n",
              "    </tr>\n",
              "    <tr>\n",
              "      <th>unknown</th>\n",
              "      <td>0.001969</td>\n",
              "      <td>0.000012</td>\n",
              "    </tr>\n",
              "  </tbody>\n",
              "</table>\n",
              "</div>"
            ],
            "text/plain": [
              "fraud              0         1\n",
              "age                           \n",
              "26-35 year  0.311054  0.003942\n",
              "36-45 year  0.244476  0.002951\n",
              "46-55 year  0.180974  0.002371\n",
              "56-65 year  0.104190  0.001154\n",
              "19-25 year  0.096599  0.001159\n",
              ">65 year    0.044586  0.000439\n",
              "<=18 year   0.004043  0.000081\n",
              "unknown     0.001969  0.000012"
            ]
          },
          "metadata": {
            "tags": []
          },
          "execution_count": 253
        }
      ]
    },
    {
      "cell_type": "code",
      "metadata": {
        "colab": {
          "base_uri": "https://localhost:8080/",
          "height": 195
        },
        "id": "4yyx2a7d23uV",
        "outputId": "11211cb4-9119-47a9-eb4b-be8ab4237f17"
      },
      "source": [
        "fraud_cat = pd.pivot_table(data=data,index=\"category\",columns=\"fraud\",values =\"index\",aggfunc=\"count\")/data.shape[0]\n",
        "fraud_cat = fraud_cat.sort_values(0, ascending=False)\n",
        "fraud_cat"
      ],
      "execution_count": null,
      "outputs": [
        {
          "output_type": "execute_result",
          "data": {
            "text/html": [
              "<div>\n",
              "<style scoped>\n",
              "    .dataframe tbody tr th:only-of-type {\n",
              "        vertical-align: middle;\n",
              "    }\n",
              "\n",
              "    .dataframe tbody tr th {\n",
              "        vertical-align: top;\n",
              "    }\n",
              "\n",
              "    .dataframe thead th {\n",
              "        text-align: right;\n",
              "    }\n",
              "</style>\n",
              "<table border=\"1\" class=\"dataframe\">\n",
              "  <thead>\n",
              "    <tr style=\"text-align: right;\">\n",
              "      <th>fraud</th>\n",
              "      <th>0</th>\n",
              "      <th>1</th>\n",
              "    </tr>\n",
              "    <tr>\n",
              "      <th>category</th>\n",
              "      <th></th>\n",
              "      <th></th>\n",
              "    </tr>\n",
              "  </thead>\n",
              "  <tbody>\n",
              "    <tr>\n",
              "      <th>transportation</th>\n",
              "      <td>0.849449</td>\n",
              "      <td>NaN</td>\n",
              "    </tr>\n",
              "    <tr>\n",
              "      <th>domestic</th>\n",
              "      <td>0.071261</td>\n",
              "      <td>0.003360</td>\n",
              "    </tr>\n",
              "    <tr>\n",
              "      <th>wellnessandbeauty</th>\n",
              "      <td>0.052016</td>\n",
              "      <td>0.007241</td>\n",
              "    </tr>\n",
              "    <tr>\n",
              "      <th>restauration</th>\n",
              "      <td>0.015165</td>\n",
              "      <td>0.001507</td>\n",
              "    </tr>\n",
              "  </tbody>\n",
              "</table>\n",
              "</div>"
            ],
            "text/plain": [
              "fraud                     0         1\n",
              "category                             \n",
              "transportation     0.849449       NaN\n",
              "domestic           0.071261  0.003360\n",
              "wellnessandbeauty  0.052016  0.007241\n",
              "restauration       0.015165  0.001507"
            ]
          },
          "metadata": {
            "tags": []
          },
          "execution_count": 254
        }
      ]
    },
    {
      "cell_type": "code",
      "metadata": {
        "colab": {
          "base_uri": "https://localhost:8080/",
          "height": 225
        },
        "id": "pU2SJd7W3WJ9",
        "outputId": "b59dbbb6-1dcb-430c-a2a4-edd1a3401b98"
      },
      "source": [
        "fraud_g = pd.pivot_table(data=data,index=\"gender\",columns=\"fraud\",values =\"index\",aggfunc=\"count\",margins=1)/data.shape[0]\n",
        "fraud_g = fraud_g.sort_values(0, ascending=False)\n",
        "fraud_g"
      ],
      "execution_count": null,
      "outputs": [
        {
          "output_type": "execute_result",
          "data": {
            "text/html": [
              "<div>\n",
              "<style scoped>\n",
              "    .dataframe tbody tr th:only-of-type {\n",
              "        vertical-align: middle;\n",
              "    }\n",
              "\n",
              "    .dataframe tbody tr th {\n",
              "        vertical-align: top;\n",
              "    }\n",
              "\n",
              "    .dataframe thead th {\n",
              "        text-align: right;\n",
              "    }\n",
              "</style>\n",
              "<table border=\"1\" class=\"dataframe\">\n",
              "  <thead>\n",
              "    <tr style=\"text-align: right;\">\n",
              "      <th>fraud</th>\n",
              "      <th>0</th>\n",
              "      <th>1</th>\n",
              "      <th>All</th>\n",
              "    </tr>\n",
              "    <tr>\n",
              "      <th>gender</th>\n",
              "      <th></th>\n",
              "      <th></th>\n",
              "      <th></th>\n",
              "    </tr>\n",
              "  </thead>\n",
              "  <tbody>\n",
              "    <tr>\n",
              "      <th>All</th>\n",
              "      <td>0.987892</td>\n",
              "      <td>0.012108</td>\n",
              "      <td>1.000000</td>\n",
              "    </tr>\n",
              "    <tr>\n",
              "      <th>Female</th>\n",
              "      <td>0.537813</td>\n",
              "      <td>0.008001</td>\n",
              "      <td>0.545815</td>\n",
              "    </tr>\n",
              "    <tr>\n",
              "      <th>Male</th>\n",
              "      <td>0.447243</td>\n",
              "      <td>0.004095</td>\n",
              "      <td>0.451338</td>\n",
              "    </tr>\n",
              "    <tr>\n",
              "      <th>Enterprise</th>\n",
              "      <td>0.001969</td>\n",
              "      <td>0.000012</td>\n",
              "      <td>0.001981</td>\n",
              "    </tr>\n",
              "    <tr>\n",
              "      <th>Gender_Unknown</th>\n",
              "      <td>0.000866</td>\n",
              "      <td>NaN</td>\n",
              "      <td>0.000866</td>\n",
              "    </tr>\n",
              "  </tbody>\n",
              "</table>\n",
              "</div>"
            ],
            "text/plain": [
              "fraud                  0         1       All\n",
              "gender                                      \n",
              "All             0.987892  0.012108  1.000000\n",
              "Female          0.537813  0.008001  0.545815\n",
              "Male            0.447243  0.004095  0.451338\n",
              "Enterprise      0.001969  0.000012  0.001981\n",
              "Gender_Unknown  0.000866       NaN  0.000866"
            ]
          },
          "metadata": {
            "tags": []
          },
          "execution_count": 259
        }
      ]
    },
    {
      "cell_type": "code",
      "metadata": {
        "id": "9NsXI7I73taO"
      },
      "source": [
        "rel=[fraud_g,fraud_cat,fraud_agee]"
      ],
      "execution_count": null,
      "outputs": []
    },
    {
      "cell_type": "code",
      "metadata": {
        "id": "9-xTOva84Xkp"
      },
      "source": [
        "resul=pd.concat(rel)"
      ],
      "execution_count": null,
      "outputs": []
    },
    {
      "cell_type": "code",
      "metadata": {
        "colab": {
          "base_uri": "https://localhost:8080/",
          "height": 550
        },
        "id": "vauc9WFZ4eRP",
        "outputId": "0bd75394-54cf-4dbb-8785-18f531426e9b"
      },
      "source": [
        "resul"
      ],
      "execution_count": null,
      "outputs": [
        {
          "output_type": "execute_result",
          "data": {
            "text/html": [
              "<div>\n",
              "<style scoped>\n",
              "    .dataframe tbody tr th:only-of-type {\n",
              "        vertical-align: middle;\n",
              "    }\n",
              "\n",
              "    .dataframe tbody tr th {\n",
              "        vertical-align: top;\n",
              "    }\n",
              "\n",
              "    .dataframe thead th {\n",
              "        text-align: right;\n",
              "    }\n",
              "</style>\n",
              "<table border=\"1\" class=\"dataframe\">\n",
              "  <thead>\n",
              "    <tr style=\"text-align: right;\">\n",
              "      <th>fraud</th>\n",
              "      <th>0</th>\n",
              "      <th>1</th>\n",
              "      <th>All</th>\n",
              "    </tr>\n",
              "  </thead>\n",
              "  <tbody>\n",
              "    <tr>\n",
              "      <th>All</th>\n",
              "      <td>0.987892</td>\n",
              "      <td>0.012108</td>\n",
              "      <td>1.000000</td>\n",
              "    </tr>\n",
              "    <tr>\n",
              "      <th>Female</th>\n",
              "      <td>0.537813</td>\n",
              "      <td>0.008001</td>\n",
              "      <td>0.545815</td>\n",
              "    </tr>\n",
              "    <tr>\n",
              "      <th>Male</th>\n",
              "      <td>0.447243</td>\n",
              "      <td>0.004095</td>\n",
              "      <td>0.451338</td>\n",
              "    </tr>\n",
              "    <tr>\n",
              "      <th>Enterprise</th>\n",
              "      <td>0.001969</td>\n",
              "      <td>0.000012</td>\n",
              "      <td>0.001981</td>\n",
              "    </tr>\n",
              "    <tr>\n",
              "      <th>Gender_Unknown</th>\n",
              "      <td>0.000866</td>\n",
              "      <td>NaN</td>\n",
              "      <td>0.000866</td>\n",
              "    </tr>\n",
              "    <tr>\n",
              "      <th>transportation</th>\n",
              "      <td>0.849449</td>\n",
              "      <td>NaN</td>\n",
              "      <td>NaN</td>\n",
              "    </tr>\n",
              "    <tr>\n",
              "      <th>domestic</th>\n",
              "      <td>0.071261</td>\n",
              "      <td>0.003360</td>\n",
              "      <td>NaN</td>\n",
              "    </tr>\n",
              "    <tr>\n",
              "      <th>wellnessandbeauty</th>\n",
              "      <td>0.052016</td>\n",
              "      <td>0.007241</td>\n",
              "      <td>NaN</td>\n",
              "    </tr>\n",
              "    <tr>\n",
              "      <th>restauration</th>\n",
              "      <td>0.015165</td>\n",
              "      <td>0.001507</td>\n",
              "      <td>NaN</td>\n",
              "    </tr>\n",
              "    <tr>\n",
              "      <th>26-35 year</th>\n",
              "      <td>0.311054</td>\n",
              "      <td>0.003942</td>\n",
              "      <td>NaN</td>\n",
              "    </tr>\n",
              "    <tr>\n",
              "      <th>36-45 year</th>\n",
              "      <td>0.244476</td>\n",
              "      <td>0.002951</td>\n",
              "      <td>NaN</td>\n",
              "    </tr>\n",
              "    <tr>\n",
              "      <th>46-55 year</th>\n",
              "      <td>0.180974</td>\n",
              "      <td>0.002371</td>\n",
              "      <td>NaN</td>\n",
              "    </tr>\n",
              "    <tr>\n",
              "      <th>56-65 year</th>\n",
              "      <td>0.104190</td>\n",
              "      <td>0.001154</td>\n",
              "      <td>NaN</td>\n",
              "    </tr>\n",
              "    <tr>\n",
              "      <th>19-25 year</th>\n",
              "      <td>0.096599</td>\n",
              "      <td>0.001159</td>\n",
              "      <td>NaN</td>\n",
              "    </tr>\n",
              "    <tr>\n",
              "      <th>&gt;65 year</th>\n",
              "      <td>0.044586</td>\n",
              "      <td>0.000439</td>\n",
              "      <td>NaN</td>\n",
              "    </tr>\n",
              "    <tr>\n",
              "      <th>&lt;=18 year</th>\n",
              "      <td>0.004043</td>\n",
              "      <td>0.000081</td>\n",
              "      <td>NaN</td>\n",
              "    </tr>\n",
              "    <tr>\n",
              "      <th>unknown</th>\n",
              "      <td>0.001969</td>\n",
              "      <td>0.000012</td>\n",
              "      <td>NaN</td>\n",
              "    </tr>\n",
              "  </tbody>\n",
              "</table>\n",
              "</div>"
            ],
            "text/plain": [
              "fraud                     0         1       All\n",
              "All                0.987892  0.012108  1.000000\n",
              "Female             0.537813  0.008001  0.545815\n",
              "Male               0.447243  0.004095  0.451338\n",
              "Enterprise         0.001969  0.000012  0.001981\n",
              "Gender_Unknown     0.000866       NaN  0.000866\n",
              "transportation     0.849449       NaN       NaN\n",
              "domestic           0.071261  0.003360       NaN\n",
              "wellnessandbeauty  0.052016  0.007241       NaN\n",
              "restauration       0.015165  0.001507       NaN\n",
              "26-35 year         0.311054  0.003942       NaN\n",
              "36-45 year         0.244476  0.002951       NaN\n",
              "46-55 year         0.180974  0.002371       NaN\n",
              "56-65 year         0.104190  0.001154       NaN\n",
              "19-25 year         0.096599  0.001159       NaN\n",
              ">65 year           0.044586  0.000439       NaN\n",
              "<=18 year          0.004043  0.000081       NaN\n",
              "unknown            0.001969  0.000012       NaN"
            ]
          },
          "metadata": {
            "tags": []
          },
          "execution_count": 262
        }
      ]
    },
    {
      "cell_type": "code",
      "metadata": {
        "id": "Vs1-LKm44fp0"
      },
      "source": [
        ""
      ],
      "execution_count": null,
      "outputs": []
    }
  ]
}